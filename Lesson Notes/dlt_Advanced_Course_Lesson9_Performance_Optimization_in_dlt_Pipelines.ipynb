{
  "nbformat": 4,
  "nbformat_minor": 0,
  "metadata": {
    "colab": {
      "provenance": [],
      "authorship_tag": "ABX9TyMRH2OOtbb+WdcIIJO7u0Gc"
    },
    "kernelspec": {
      "name": "python3",
      "display_name": "Python 3"
    },
    "language_info": {
      "name": "python"
    }
  },
  "cells": [
    {
      "cell_type": "code",
      "source": [
        "%%capture\n",
        "!pip install \"dlt[sql_database, duckdb]\"\n",
        "!pip install pymysql\n",
        "!pip install pyyaml"
      ],
      "metadata": {
        "id": "rHtpffhcEX_B"
      },
      "execution_count": 3,
      "outputs": []
    },
    {
      "cell_type": "markdown",
      "source": [
        "# **Performance Optimization in dlt Pipelines**\n",
        "\n",
        "In this lesson we talk about optimizing the performance of dlt pipelines by analysing and improving the each step within the `pipeline.run()` method\n",
        "\n",
        "**Steps in `pipeline.run()`**\n",
        "1. Extract - Fully extracts the data from your source to your hard drive.\n",
        "\n",
        "2. Normalize\n",
        "  - Inspects and normalizes your data\n",
        "  - Computes a schema compatible with your destination this also means unnesting tables to create child tables\n",
        "\n",
        "3. Load - Runs schema migrations if necessary on your destination and loads your data into the destination\n",
        "\n",
        "To optimize dlt pipelines - each step has its own optimization techniques"
      ],
      "metadata": {
        "id": "0XJdlxdWEbRe"
      }
    },
    {
      "cell_type": "markdown",
      "source": [
        "### **When to Optimize dlt Pipelines**\n",
        "\n",
        "> **`dlt` comes with well-thought-out defaults that work great for most cases.**\n",
        "\n",
        "The default settings are:\n",
        "- Conservative enough to work on a laptop.\n",
        "- Efficient enough to run production loads for many use cases.\n",
        "- Safe to experiment with incrementally.\n",
        "\n",
        "**When to start tweaking?**\n",
        "\n",
        "Once you’ve:\n",
        "- Run your pipeline end-to-end successfully.\n",
        "- Noticed slowdowns at scale.\n",
        "- Understood which part of the pipeline (extract, normalize, load) is the bottleneck.\n",
        "\n",
        "> **Start with the defaults. Measure. Then tune.**\n"
      ],
      "metadata": {
        "id": "6vv0LWx8yOcZ"
      }
    },
    {
      "cell_type": "markdown",
      "source": [
        "## **1. Parallelism in Python**\n",
        "- Python is single threaded by default which means that only 1 operation runs at a time even if there are more cores available.\n"
      ],
      "metadata": {
        "id": "8eBRvmePV6me"
      }
    },
    {
      "cell_type": "markdown",
      "source": [
        "### **1.1. Threading Library Python**\n",
        "- Cpython implementation of Python prohibits running python code on more than 1 thread at the same time (this is called the Global Interpreter Lock)\n",
        "- With the use of libraries like `threading` and `multithreading` you are still using one intrepreter at a time but rapidly switching between them to make it seem parallel, although it is not.\n",
        "- So technically all we are trying to do is make the most of the wait times by performing other tasks (one thread wait for API response, the other thread while the first one is on standby will read a file)\n",
        "\n",
        "**When to Use Threading**\n",
        "-  You should use threading for tasks that usually has to wait a lot, for instance\n",
        "  - waiting for a website to respond\n",
        "  - reading or writing a file\n",
        "  - handling multiple users at the same time\n",
        "  - So basically I/O bound tasks"
      ],
      "metadata": {
        "id": "L_EzSY27XDw9"
      }
    },
    {
      "cell_type": "code",
      "source": [
        "import threading\n",
        "import time\n",
        "\n",
        "def boil_water():\n",
        "    print(\"Boiling water...\")\n",
        "    time.sleep(3) # simulate wait time\n",
        "    print(\"Water boiled!\")\n",
        "\n",
        "def make_toast():\n",
        "    print(\"Making toast...\")\n",
        "    time.sleep(2) # simulate wait time\n",
        "    print(\"Toast ready!\")\n",
        "\n",
        "# Create threads\n",
        "# create a thread to execute boil_water()\n",
        "t1 = threading.Thread(target=boil_water)\n",
        "# create another thread to execute make_toast()\n",
        "t2 = threading.Thread(target=make_toast)\n",
        "\n",
        "# Start them\n",
        "t1.start() # starts the first thread whihc runs the boil_water() function on the bg\n",
        "t2.start()\n",
        "\n",
        "# Wait for both to finish\n",
        "t1.join()\n",
        "t2.join()\n",
        "\n",
        "print(\"Breakfast done!\")\n"
      ],
      "metadata": {
        "colab": {
          "base_uri": "https://localhost:8080/"
        },
        "id": "VmY2dl9UVvC_",
        "outputId": "dc5beeb4-1f06-4f8e-ea08-39ad42f3079e"
      },
      "execution_count": null,
      "outputs": [
        {
          "output_type": "stream",
          "name": "stdout",
          "text": [
            "Boiling water...\n",
            "Making toast...\n",
            "Toast ready!\n",
            "Water boiled!\n",
            "Breakfast done!\n"
          ]
        }
      ]
    },
    {
      "cell_type": "code",
      "source": [
        "import threading\n",
        "import time\n",
        "from concurrent.futures import ThreadPoolExecutor\n",
        "\n",
        "def threaded_function():\n",
        "    for number in range(3):\n",
        "        print(f\"Printing from {threading.current_thread().name}. {number=}\")\n",
        "        # Simulate slow API call\n",
        "        time.sleep(0.1)\n",
        "\n",
        "with ThreadPoolExecutor(max_workers=4, thread_name_prefix=\"Worker\") as executor:\n",
        "    for _ in range(4):\n",
        "        executor.submit(threaded_function)"
      ],
      "metadata": {
        "colab": {
          "base_uri": "https://localhost:8080/"
        },
        "id": "u7XKfAfteLez",
        "outputId": "b31608fe-0e74-4f7a-f73b-1a4951039d95"
      },
      "execution_count": null,
      "outputs": [
        {
          "output_type": "stream",
          "name": "stdout",
          "text": [
            "Printing from Worker_0. number=0\n",
            "Printing from Worker_1. number=0\n",
            "Printing from Worker_2. number=0\n",
            "Printing from Worker_3. number=0\n",
            "Printing from Worker_0. number=1\n",
            "Printing from Worker_1. number=1\n",
            "Printing from Worker_2. number=1\n",
            "Printing from Worker_3. number=1\n",
            "Printing from Worker_0. number=2\n",
            "Printing from Worker_1. number=2\n",
            "Printing from Worker_2. number=2\n",
            "Printing from Worker_3. number=2\n"
          ]
        }
      ]
    },
    {
      "cell_type": "markdown",
      "source": [
        "### **2. Multiprocessing in Python**\n",
        "- This is the true parallelism in Python where tasks are run concurrently unlike threading\n",
        "- Multiprocessing is used for calculation intensive applications\n",
        "\n",
        "In this example, `compute_heavy_task` squares numbers from 0 to 2 and prints the process name it runs on. We use `ProcessPoolExecutor` to run 4 processes in parallel, each computing the task independently."
      ],
      "metadata": {
        "id": "MKoFqYnNgVx2"
      }
    },
    {
      "cell_type": "code",
      "source": [
        "import multiprocessing\n",
        "import time\n",
        "from concurrent.futures import ProcessPoolExecutor\n",
        "\n",
        "def compute_heavy_task():\n",
        "    for number in range(3):\n",
        "        print(f\"Computing in {multiprocessing.current_process().name}. {number=} => {number**2}\\n\")\n",
        "        time.sleep(0.1)\n",
        "\n",
        "if __name__ == \"__main__\":\n",
        "  with ProcessPoolExecutor(max_workers=4) as executor:\n",
        "        for _ in range(4):\n",
        "            executor.submit(compute_heavy_task)"
      ],
      "metadata": {
        "colab": {
          "base_uri": "https://localhost:8080/"
        },
        "id": "ZShTXTGcgMyv",
        "outputId": "ba259ae7-4ca0-49fb-f6cd-1ce7a28a2712"
      },
      "execution_count": null,
      "outputs": [
        {
          "output_type": "stream",
          "name": "stdout",
          "text": [
            "Computing in ForkProcess-3. number=0 => 0\n",
            "Computing in ForkProcess-1. number=0 => 0\n",
            "Computing in ForkProcess-4. number=0 => 0\n",
            "\n",
            "Computing in ForkProcess-2. number=0 => 0\n",
            "\n",
            "\n",
            "\n",
            "Computing in ForkProcess-3. number=1 => 1\n",
            "Computing in ForkProcess-4. number=1 => 1\n",
            "\n",
            "Computing in ForkProcess-2. number=1 => 1\n",
            "\n",
            "Computing in ForkProcess-1. number=1 => 1\n",
            "\n",
            "\n",
            "Computing in ForkProcess-4. number=2 => 4\n",
            "\n",
            "Computing in ForkProcess-3. number=2 => 4\n",
            "Computing in ForkProcess-2. number=2 => 4\n",
            "\n",
            "\n",
            "Computing in ForkProcess-1. number=2 => 4\n",
            "\n"
          ]
        }
      ]
    },
    {
      "cell_type": "code",
      "source": [
        "import concurrent.futures\n",
        "import math\n",
        "import time\n",
        "\n",
        "# List of large prime numbers\n",
        "PRIMES = [\n",
        "    112272535095293,\n",
        "    112582705942171,\n",
        "    112272535095293,\n",
        "    115280095190773,\n",
        "    115797848077099,\n",
        "    1099726899285419\n",
        "]\n",
        "\n",
        "# Prime-checking function\n",
        "def is_prime(n):\n",
        "    if n < 2:\n",
        "        return False\n",
        "    if n == 2:\n",
        "        return True\n",
        "    if n % 2 == 0:\n",
        "        return False\n",
        "\n",
        "    sqrt_n = int(math.floor(math.sqrt(n)))\n",
        "    for i in range(3, sqrt_n + 1, 2):\n",
        "        if n % i == 0:\n",
        "            return False\n",
        "    return True\n",
        "\n",
        "# Time the multiprocessing version\n",
        "start_mp = time.time()\n",
        "with concurrent.futures.ProcessPoolExecutor() as executor:\n",
        "    mp_results = list(zip(PRIMES, executor.map(is_prime, PRIMES)))\n",
        "end_mp = time.time()\n",
        "mp_duration = end_mp - start_mp\n",
        "\n",
        "# Time the normal single-threaded version\n",
        "start_st = time.time()\n",
        "st_results = [(n, is_prime(n)) for n in PRIMES]\n",
        "end_st = time.time()\n",
        "st_duration = end_st - start_st\n",
        "\n",
        "mp_results, st_results, mp_duration, st_duration"
      ],
      "metadata": {
        "colab": {
          "base_uri": "https://localhost:8080/"
        },
        "id": "XYZpuRL6iKaO",
        "outputId": "4ab02606-3b51-4997-cb05-cf7a8b9d10db"
      },
      "execution_count": null,
      "outputs": [
        {
          "output_type": "execute_result",
          "data": {
            "text/plain": [
              "([(112272535095293, True),\n",
              "  (112582705942171, True),\n",
              "  (112272535095293, True),\n",
              "  (115280095190773, True),\n",
              "  (115797848077099, True),\n",
              "  (1099726899285419, False)],\n",
              " [(112272535095293, True),\n",
              "  (112582705942171, True),\n",
              "  (112272535095293, True),\n",
              "  (115280095190773, True),\n",
              "  (115797848077099, True),\n",
              "  (1099726899285419, False)],\n",
              " 2.247509002685547,\n",
              " 2.260770797729492)"
            ]
          },
          "metadata": {},
          "execution_count": 6
        }
      ]
    },
    {
      "cell_type": "markdown",
      "source": [
        "### **AsyncIO Library in Python**\n",
        "- It's python lib that provides async iterator in Python\n",
        "- It is not multithreading nor multiprocessing\n",
        "- In synchronous programming, tasks are executed one after another. Each task must complete before the next one begins\n",
        "- Asynchronous programming allows tasks to run concurrently, meaning a program can initiate a task and move on to another without waiting for the first to finish. This is particularly useful for I/O-bound operations.\n",
        "\n"
      ],
      "metadata": {
        "id": "DS5wdGUOiiqc"
      }
    },
    {
      "cell_type": "code",
      "source": [
        "import asyncio\n",
        "import time\n",
        "\n",
        "\n",
        "async def count():\n",
        "    print(\"One\")\n",
        "    await asyncio.sleep(1)\n",
        "    print(\"Two\")\n",
        "\n",
        "async def main():\n",
        "    await asyncio.gather(count(), count(), count())\n",
        "\n",
        "\n",
        "\n",
        "s = time.perf_counter()\n",
        "\n",
        "# In Colab, you'll need to get a handle of the current running loop first.\n",
        "loop = asyncio.get_running_loop()\n",
        "await loop.create_task(main())\n",
        "\n",
        "elapsed = time.perf_counter() - s\n",
        "print(f\"executed in {elapsed:0.2f} seconds.\")"
      ],
      "metadata": {
        "colab": {
          "base_uri": "https://localhost:8080/"
        },
        "id": "42r4C-XqiU5c",
        "outputId": "6c8211ed-acfd-4a68-8129-ae8ea60d42f7"
      },
      "execution_count": null,
      "outputs": [
        {
          "output_type": "stream",
          "name": "stdout",
          "text": [
            "One\n",
            "One\n",
            "One\n",
            "Two\n",
            "Two\n",
            "Two\n",
            "executed in 1.00 seconds.\n"
          ]
        }
      ]
    },
    {
      "cell_type": "markdown",
      "source": [
        "## **2. Parallelism in dlt**"
      ],
      "metadata": {
        "id": "Nl8SA3Lnj151"
      }
    },
    {
      "cell_type": "markdown",
      "source": [
        "## **2.1. Extract Stage Parallelism**\n",
        "- In the extract stage the files are read and written to intermediary files\n",
        "- This phase is I/O intensive therefore threading is used\n",
        "\n",
        "**Default behaviour for Extract Stage**\n",
        "\n",
        "- The in-memory buffer is set to `5000` items.\n",
        "- By default, **intermediary files are not rotated**. If you do not explicitly set a size for an intermediary file with `file_max_items=100000`, `dlt` will create a **single file** for a resource, regardless of the number of records it contains, even if it reaches millions.\n",
        "- By default, intermediary files at the extract stage use a custom version of the JSONL format."
      ],
      "metadata": {
        "id": "fm32LNl8j7es"
      }
    },
    {
      "cell_type": "markdown",
      "source": [
        "### **2.1.1. Use Larger In-memory Buffer**\n",
        "- dlt uses buffers when writing intermediary files\n",
        "- The size of the buffers determines the number of data items held - when the buffer is full it is cleared\n",
        "- By default, dlt **buffers 5000 items** before writing to disk. Increase this value to reduce disk I/O and improve speed.\n",
        "\n",
        "\n",
        "**Pros**\n",
        "- By increasing buffer size you will have fewer writes to intermediary thus saving up on I/O\n",
        "\n",
        "**Cons**\n",
        "- Increase a buffer size means an increase in RAM usage which can cause crashes"
      ],
      "metadata": {
        "id": "yBz1G7DExQgw"
      }
    },
    {
      "cell_type": "code",
      "source": [
        "import os\n",
        "import dlt\n",
        "\n",
        "# when the buffer size is 1, the number of extract workers is effectively limited to 1\n",
        "os.environ['DATA_WRITER__BUFFER_MAX_ITEMS'] = '1'\n",
        "\n",
        "def get_rows(limit):\n",
        "    yield from map(lambda n: {\"row\": n}, range(limit))\n",
        "\n",
        "\n",
        "@dlt.resource()\n",
        "def buffered_resource():\n",
        "    for row in get_rows(500000):\n",
        "        yield row\n",
        "\n",
        "pipeline = dlt.pipeline(\n",
        "    pipeline_name=\"extract_pipeline1\", destination=\"duckdb\", dataset_name=\"mydata\", dev_mode=True,\n",
        ")\n",
        "load_info = pipeline.extract(buffered_resource)\n",
        "print(pipeline.last_trace)"
      ],
      "metadata": {
        "colab": {
          "base_uri": "https://localhost:8080/"
        },
        "id": "IVk6c-F0ju3L",
        "outputId": "5f64f3d5-8538-4587-a9eb-d2dc03056b94"
      },
      "execution_count": null,
      "outputs": [
        {
          "output_type": "stream",
          "name": "stdout",
          "text": [
            "Run started at 2025-05-05 14:15:32.754999+00:00 and COMPLETED in 9.39 seconds with 1 steps.\n",
            "Step extract COMPLETED in 9.38 seconds.\n",
            "\n",
            "Load package 1746454532.76826 is EXTRACTED and NOT YET LOADED to the destination and contains no failed jobs\n"
          ]
        }
      ]
    },
    {
      "cell_type": "code",
      "source": [
        "import os\n",
        "import dlt\n",
        "\n",
        "# number of buffer items increased\n",
        "os.environ['DATA_WRITER__BUFFER_MAX_ITEMS'] = '5000'\n",
        "\n",
        "def get_rows(limit):\n",
        "    yield from map(lambda n: {\"row\": n}, range(limit))\n",
        "\n",
        "\n",
        "@dlt.resource()\n",
        "def buffered_resource():\n",
        "    for row in get_rows(500000):\n",
        "        yield row\n",
        "\n",
        "pipeline = dlt.pipeline(\n",
        "    pipeline_name=\"extract_pipeline2\", destination=\"duckdb\", dataset_name=\"mydata\", dev_mode=True,\n",
        ")\n",
        "load_info = pipeline.extract(buffered_resource)\n",
        "print(pipeline.last_trace)"
      ],
      "metadata": {
        "colab": {
          "base_uri": "https://localhost:8080/"
        },
        "id": "0aOQaDHuzTqX",
        "outputId": "61b62c3e-b67a-476a-bc3e-930d91195587"
      },
      "execution_count": null,
      "outputs": [
        {
          "output_type": "stream",
          "name": "stdout",
          "text": [
            "Run started at 2025-05-05 14:15:56.700969+00:00 and COMPLETED in 6.87 seconds with 1 steps.\n",
            "Step extract COMPLETED in 6.87 seconds.\n",
            "\n",
            "Load package 1746454556.7122946 is EXTRACTED and NOT YET LOADED to the destination and contains no failed jobs\n"
          ]
        }
      ]
    },
    {
      "cell_type": "code",
      "source": [
        "import os\n",
        "import time\n",
        "import dlt\n",
        "import matplotlib.pyplot as plt\n",
        "\n",
        "\n",
        "def get_rows(limit):\n",
        "    yield from map(lambda n: {\"row\": n}, range(limit))\n",
        "\n",
        "\n",
        "def measure_extract_time(buffer_size):\n",
        "    os.environ['DATA_WRITER__BUFFER_MAX_ITEMS'] = str(buffer_size)\n",
        "\n",
        "    @dlt.resource()\n",
        "    def buffered_resource():\n",
        "        for row in get_rows(500000):\n",
        "            yield row\n",
        "\n",
        "    pipeline = dlt.pipeline(\n",
        "        pipeline_name=f\"extract_pipeline_{buffer_size}\",\n",
        "        destination=\"duckdb\",\n",
        "        dataset_name=\"mydata\",\n",
        "        dev_mode=True,\n",
        "    )\n",
        "\n",
        "    start_time = time.time()\n",
        "    pipeline.extract(buffered_resource)\n",
        "    return time.time() - start_time\n",
        "\n",
        "\n",
        "# Try different buffer sizes\n",
        "buffer_sizes = [1, 10, 100, 1000, 5000, 10000, 50000, 100000, 500000]\n",
        "times = [measure_extract_time(size) for size in buffer_sizes]\n",
        "\n",
        "\n",
        "plt.figure(figsize=(10, 6))\n",
        "plt.plot(buffer_sizes, times, marker='o')\n",
        "plt.xlabel('BUFFER_MAX_ITEMS')\n",
        "plt.ylabel('Time to Extract (seconds)')\n",
        "plt.title('Effect of Buffer Size on Extraction Time')\n",
        "plt.grid(True)\n",
        "plt.xscale('log')\n",
        "plt.show()"
      ],
      "metadata": {
        "colab": {
          "base_uri": "https://localhost:8080/",
          "height": 569
        },
        "id": "nlzRPR5sza9X",
        "outputId": "82200aea-4195-443b-c054-8f99ddd50548"
      },
      "execution_count": null,
      "outputs": [
        {
          "output_type": "display_data",
          "data": {
            "text/plain": [
              "<Figure size 1000x600 with 1 Axes>"
            ],
            "image/png": "[encoded data removed]"
          },
          "metadata": {}
        }
      ]
    },
    {
      "cell_type": "markdown",
      "source": [
        "### **2.1.2. Group Resources into Sources**\n",
        "- Each resource in dlt is treated as a separate execution unit, which means if you pass multiple resources on pipeline.run() then each will have it's own context and process\n",
        "- Grouping resources in sources has the following benefits\n",
        "  - dlt can reuse context for different resources like database connections or API\n",
        "  - provides better manageability\n",
        "  - enables better parallelism\n",
        "  - dlt can schedule their extraction in the same shared thread pool"
      ],
      "metadata": {
        "id": "CK3eLvJH0PNE"
      }
    },
    {
      "cell_type": "code",
      "source": [
        "import os\n",
        "import dlt\n",
        "\n",
        "def get_rows(limit):\n",
        "    yield from map(lambda n: {\"row\": n}, range(limit))\n",
        "\n",
        "@dlt.resource(name=\"resource1\")\n",
        "def buffered_resource1():\n",
        "    for row in get_rows(500000):\n",
        "        yield row\n",
        "\n",
        "\n",
        "@dlt.resource(name=\"resource2\")\n",
        "def buffered_resource2():\n",
        "    for row in get_rows(500000):\n",
        "        yield row\n",
        "\n",
        "\n",
        "@dlt.resource(name=\"resource3\")\n",
        "def buffered_resource3():\n",
        "    for row in get_rows(500000):\n",
        "        yield row\n",
        "\n",
        "\n",
        "\n",
        "pipeline = dlt.pipeline(\n",
        "    pipeline_name=\"extract_pipeline4\",\n",
        "    destination=\"duckdb\",\n",
        "    dataset_name=\"mydata\",\n",
        "    dev_mode=True,\n",
        ")\n",
        "\n",
        "# extract data without grouping resources\n",
        "load_info = pipeline.extract([buffered_resource1, buffered_resource2, buffered_resource3])\n",
        "print(pipeline.last_trace)"
      ],
      "metadata": {
        "colab": {
          "base_uri": "https://localhost:8080/"
        },
        "id": "wnHsmXWb0MKm",
        "outputId": "b570c0af-9578-4d6e-9866-ae420a87d618"
      },
      "execution_count": null,
      "outputs": [
        {
          "output_type": "stream",
          "name": "stdout",
          "text": [
            "Run started at 2025-05-05 14:24:07.240791+00:00 and COMPLETED in 29.49 seconds with 1 steps.\n",
            "Step extract COMPLETED in 29.49 seconds.\n",
            "\n",
            "Load package 1746455047.2520053 is EXTRACTED and NOT YET LOADED to the destination and contains no failed jobs\n"
          ]
        }
      ]
    },
    {
      "cell_type": "code",
      "source": [
        "import os\n",
        "import time\n",
        "import dlt\n",
        "from threading import currentThread\n",
        "\n",
        "# resources grouped\n",
        "@dlt.source\n",
        "def source():\n",
        "  return buffered_resource1, buffered_resource2, buffered_resource3\n",
        "\n",
        "\n",
        "pipeline = dlt.pipeline(\n",
        "    pipeline_name=\"extract_pipeline4\",\n",
        "    destination=\"duckdb\",\n",
        "    dataset_name=\"mydata\",\n",
        "    dev_mode=True,\n",
        ")\n",
        "\n",
        "load_info = pipeline.extract(source())\n",
        "print(pipeline.last_trace)"
      ],
      "metadata": {
        "colab": {
          "base_uri": "https://localhost:8080/"
        },
        "id": "w6Zlqy6p1StG",
        "outputId": "2434fe14-fb73-4ffc-a936-88f810bf2e2f"
      },
      "execution_count": null,
      "outputs": [
        {
          "output_type": "stream",
          "name": "stdout",
          "text": [
            "Run started at 2025-05-05 14:24:36.930711+00:00 and COMPLETED in 21.85 seconds with 1 steps.\n",
            "Step extract COMPLETED in 21.85 seconds.\n",
            "\n",
            "Load package 1746455076.9422636 is EXTRACTED and NOT YET LOADED to the destination and contains no failed jobs\n"
          ]
        }
      ]
    },
    {
      "cell_type": "markdown",
      "source": [
        "### **2.1.3. Enable parallel threaded extraction**\n",
        "\n",
        "When extracting data from **multiple sources**, you usually want them to be processed **at the same time**, not one after another. This is especially useful when:\n",
        "\n",
        "- Calling **slow APIs**\n",
        "- Working with **multiple endpoints**\n",
        "- Extracting from **databases with many tables**\n",
        "\n",
        "Use multiple threads to fetch data from different resources with `parallelized=True`.\n"
      ],
      "metadata": {
        "id": "Ie4Wf6t73KqZ"
      }
    },
    {
      "cell_type": "markdown",
      "source": [
        "**Simulate Slow APIs with `time.sleep`**\n",
        "\n",
        "We’ll simulate API latency by adding a `time.sleep(0.01)` delay before yielding each row. This mimics a network call taking ~10ms.\n",
        "\n",
        "We’ll then parallelize the resources using `parallelized=True` and observe the thread behavior using `threading.currentThread()`.\n"
      ],
      "metadata": {
        "id": "QJgycSdrhExh"
      }
    },
    {
      "cell_type": "code",
      "source": [
        "import os\n",
        "import dlt\n",
        "import time\n",
        "from threading import current_thread\n",
        "\n",
        "def get_rows(limit):\n",
        "    yield from map(lambda n: {\"row\": n}, range(limit))\n",
        "\n",
        "# Resource 1: slow generator, runs in a separate thread\n",
        "@dlt.resource(name=\"resource1\", parallelized=False)\n",
        "def buffered_resource1():\n",
        "    for row in get_rows(100):\n",
        "        time.sleep(0.01)  # Simulate slow API call\n",
        "        print(f\"resource1 in thread {current_thread().name}\")\n",
        "        yield row\n",
        "\n",
        "\n",
        "@dlt.resource(name=\"resource2\", parallelized=False)\n",
        "def buffered_resource2():\n",
        "    for row in get_rows(100):\n",
        "        time.sleep(0.01)\n",
        "        print(f\"resource2 in thread {current_thread().name}\")\n",
        "        yield row\n",
        "\n",
        "\n",
        "@dlt.resource(name=\"resource3\", parallelized=False)\n",
        "def buffered_resource3():\n",
        "    for row in get_rows(100):\n",
        "        time.sleep(0.01)\n",
        "        print(f\"resource3 in thread {current_thread().name}\")\n",
        "        yield row\n",
        "\n",
        "\n",
        "@dlt.source\n",
        "def source():\n",
        "    return buffered_resource1, buffered_resource2, buffered_resource3\n",
        "\n",
        "\n",
        "pipeline = dlt.pipeline(\n",
        "    pipeline_name=\"extract_pipeline4\",\n",
        "    destination=\"duckdb\",\n",
        "    dataset_name=\"mydata\",\n",
        "    dev_mode=True,\n",
        ")\n",
        "\n",
        "\n",
        "load_info = pipeline.extract(source())\n",
        "print(pipeline.last_trace)"
      ],
      "metadata": {
        "id": "V2IHwnqt1XxW",
        "colab": {
          "base_uri": "https://localhost:8080/"
        },
        "outputId": "f42a1005-9407-4cc0-c04f-512a14c7cdc7"
      },
      "execution_count": 2,
      "outputs": [
        {
          "output_type": "stream",
          "name": "stdout",
          "text": [
            "resource1 in thread MainThread\n",
            "resource2 in thread MainThread\n",
            "resource3 in thread MainThread\n",
            "resource1 in thread MainThread\n",
            "resource2 in thread MainThread\n",
            "resource3 in thread MainThread\n",
            "resource1 in thread MainThread\n",
            "resource2 in thread MainThread\n",
            "resource3 in thread MainThread\n",
            "resource1 in thread MainThread\n",
            "resource2 in thread MainThread\n",
            "resource3 in thread MainThread\n",
            "resource1 in thread MainThread\n",
            "resource2 in thread MainThread\n",
            "resource3 in thread MainThread\n",
            "resource1 in thread MainThread\n",
            "resource2 in thread MainThread\n",
            "resource3 in thread MainThread\n",
            "resource1 in thread MainThread\n",
            "resource2 in thread MainThread\n",
            "resource3 in thread MainThread\n",
            "resource1 in thread MainThread\n",
            "resource2 in thread MainThread\n",
            "resource3 in thread MainThread\n",
            "resource1 in thread MainThread\n",
            "resource2 in thread MainThread\n",
            "resource3 in thread MainThread\n",
            "resource1 in thread MainThread\n",
            "resource2 in thread MainThread\n",
            "resource3 in thread MainThread\n",
            "resource1 in thread MainThread\n",
            "resource2 in thread MainThread\n",
            "resource3 in thread MainThread\n",
            "resource1 in thread MainThread\n",
            "resource2 in thread MainThread\n",
            "resource3 in thread MainThread\n",
            "resource1 in thread MainThread\n",
            "resource2 in thread MainThread\n",
            "resource3 in thread MainThread\n",
            "resource1 in thread MainThread\n",
            "resource2 in thread MainThread\n",
            "resource3 in thread MainThread\n",
            "resource1 in thread MainThread\n",
            "resource2 in thread MainThread\n",
            "resource3 in thread MainThread\n",
            "resource1 in thread MainThread\n",
            "resource2 in thread MainThread\n",
            "resource3 in thread MainThread\n",
            "resource1 in thread MainThread\n",
            "resource2 in thread MainThread\n",
            "resource3 in thread MainThread\n",
            "resource1 in thread MainThread\n",
            "resource2 in thread MainThread\n",
            "resource3 in thread MainThread\n",
            "resource1 in thread MainThread\n",
            "resource2 in thread MainThread\n",
            "resource3 in thread MainThread\n",
            "resource1 in thread MainThread\n",
            "resource2 in thread MainThread\n",
            "resource3 in thread MainThread\n",
            "resource1 in thread MainThread\n",
            "resource2 in thread MainThread\n",
            "resource3 in thread MainThread\n",
            "resource1 in thread MainThread\n",
            "resource2 in thread MainThread\n",
            "resource3 in thread MainThread\n",
            "resource1 in thread MainThread\n",
            "resource2 in thread MainThread\n",
            "resource3 in thread MainThread\n",
            "resource1 in thread MainThread\n",
            "resource2 in thread MainThread\n",
            "resource3 in thread MainThread\n",
            "resource1 in thread MainThread\n",
            "resource2 in thread MainThread\n",
            "resource3 in thread MainThread\n",
            "resource1 in thread MainThread\n",
            "resource2 in thread MainThread\n",
            "resource3 in thread MainThread\n",
            "resource1 in thread MainThread\n",
            "resource2 in thread MainThread\n",
            "resource3 in thread MainThread\n",
            "resource1 in thread MainThread\n",
            "resource2 in thread MainThread\n",
            "resource3 in thread MainThread\n",
            "resource1 in thread MainThread\n",
            "resource2 in thread MainThread\n",
            "resource3 in thread MainThread\n",
            "resource1 in thread MainThread\n",
            "resource2 in thread MainThread\n",
            "resource3 in thread MainThread\n",
            "resource1 in thread MainThread\n",
            "resource2 in thread MainThread\n",
            "resource3 in thread MainThread\n",
            "resource1 in thread MainThread\n",
            "resource2 in thread MainThread\n",
            "resource3 in thread MainThread\n",
            "resource1 in thread MainThread\n",
            "resource2 in thread MainThread\n",
            "resource3 in thread MainThread\n",
            "resource1 in thread MainThread\n",
            "resource2 in thread MainThread\n",
            "resource3 in thread MainThread\n",
            "resource1 in thread MainThread\n",
            "resource2 in thread MainThread\n",
            "resource3 in thread MainThread\n",
            "resource1 in thread MainThread\n",
            "resource2 in thread MainThread\n",
            "resource3 in thread MainThread\n",
            "resource1 in thread MainThread\n",
            "resource2 in thread MainThread\n",
            "resource3 in thread MainThread\n",
            "resource1 in thread MainThread\n",
            "resource2 in thread MainThread\n",
            "resource3 in thread MainThread\n",
            "resource1 in thread MainThread\n",
            "resource2 in thread MainThread\n",
            "resource3 in thread MainThread\n",
            "resource1 in thread MainThread\n",
            "resource2 in thread MainThread\n",
            "resource3 in thread MainThread\n",
            "resource1 in thread MainThread\n",
            "resource2 in thread MainThread\n",
            "resource3 in thread MainThread\n",
            "resource1 in thread MainThread\n",
            "resource2 in thread MainThread\n",
            "resource3 in thread MainThread\n",
            "resource1 in thread MainThread\n",
            "resource2 in thread MainThread\n",
            "resource3 in thread MainThread\n",
            "resource1 in thread MainThread\n",
            "resource2 in thread MainThread\n",
            "resource3 in thread MainThread\n",
            "resource1 in thread MainThread\n",
            "resource2 in thread MainThread\n",
            "resource3 in thread MainThread\n",
            "resource1 in thread MainThread\n",
            "resource2 in thread MainThread\n",
            "resource3 in thread MainThread\n",
            "resource1 in thread MainThread\n",
            "resource2 in thread MainThread\n",
            "resource3 in thread MainThread\n",
            "resource1 in thread MainThread\n",
            "resource2 in thread MainThread\n",
            "resource3 in thread MainThread\n",
            "resource1 in thread MainThread\n",
            "resource2 in thread MainThread\n",
            "resource3 in thread MainThread\n",
            "resource1 in thread MainThread\n",
            "resource2 in thread MainThread\n",
            "resource3 in thread MainThread\n",
            "resource1 in thread MainThread\n",
            "resource2 in thread MainThread\n",
            "resource3 in thread MainThread\n",
            "resource1 in thread MainThread\n",
            "resource2 in thread MainThread\n",
            "resource3 in thread MainThread\n",
            "resource1 in thread MainThread\n",
            "resource2 in thread MainThread\n",
            "resource3 in thread MainThread\n",
            "resource1 in thread MainThread\n",
            "resource2 in thread MainThread\n",
            "resource3 in thread MainThread\n",
            "resource1 in thread MainThread\n",
            "resource2 in thread MainThread\n",
            "resource3 in thread MainThread\n",
            "resource1 in thread MainThread\n",
            "resource2 in thread MainThread\n",
            "resource3 in thread MainThread\n",
            "resource1 in thread MainThread\n",
            "resource2 in thread MainThread\n",
            "resource3 in thread MainThread\n",
            "resource1 in thread MainThread\n",
            "resource2 in thread MainThread\n",
            "resource3 in thread MainThread\n",
            "resource1 in thread MainThread\n",
            "resource2 in thread MainThread\n",
            "resource3 in thread MainThread\n",
            "resource1 in thread MainThread\n",
            "resource2 in thread MainThread\n",
            "resource3 in thread MainThread\n",
            "resource1 in thread MainThread\n",
            "resource2 in thread MainThread\n",
            "resource3 in thread MainThread\n",
            "resource1 in thread MainThread\n",
            "resource2 in thread MainThread\n",
            "resource3 in thread MainThread\n",
            "resource1 in thread MainThread\n",
            "resource2 in thread MainThread\n",
            "resource3 in thread MainThread\n",
            "resource1 in thread MainThread\n",
            "resource2 in thread MainThread\n",
            "resource3 in thread MainThread\n",
            "resource1 in thread MainThread\n",
            "resource2 in thread MainThread\n",
            "resource3 in thread MainThread\n",
            "resource1 in thread MainThread\n",
            "resource2 in thread MainThread\n",
            "resource3 in thread MainThread\n",
            "resource1 in thread MainThread\n",
            "resource2 in thread MainThread\n",
            "resource3 in thread MainThread\n",
            "resource1 in thread MainThread\n",
            "resource2 in thread MainThread\n",
            "resource3 in thread MainThread\n",
            "resource1 in thread MainThread\n",
            "resource2 in thread MainThread\n",
            "resource3 in thread MainThread\n",
            "resource1 in thread MainThread\n",
            "resource2 in thread MainThread\n",
            "resource3 in thread MainThread\n",
            "resource1 in thread MainThread\n",
            "resource2 in thread MainThread\n",
            "resource3 in thread MainThread\n",
            "resource1 in thread MainThread\n",
            "resource2 in thread MainThread\n",
            "resource3 in thread MainThread\n",
            "resource1 in thread MainThread\n",
            "resource2 in thread MainThread\n",
            "resource3 in thread MainThread\n",
            "resource1 in thread MainThread\n",
            "resource2 in thread MainThread\n",
            "resource3 in thread MainThread\n",
            "resource1 in thread MainThread\n",
            "resource2 in thread MainThread\n",
            "resource3 in thread MainThread\n",
            "resource1 in thread MainThread\n",
            "resource2 in thread MainThread\n",
            "resource3 in thread MainThread\n",
            "resource1 in thread MainThread\n",
            "resource2 in thread MainThread\n",
            "resource3 in thread MainThread\n",
            "resource1 in thread MainThread\n",
            "resource2 in thread MainThread\n",
            "resource3 in thread MainThread\n",
            "resource1 in thread MainThread\n",
            "resource2 in thread MainThread\n",
            "resource3 in thread MainThread\n",
            "resource1 in thread MainThread\n",
            "resource2 in thread MainThread\n",
            "resource3 in thread MainThread\n",
            "resource1 in thread MainThread\n",
            "resource2 in thread MainThread\n",
            "resource3 in thread MainThread\n",
            "resource1 in thread MainThread\n",
            "resource2 in thread MainThread\n",
            "resource3 in thread MainThread\n",
            "resource1 in thread MainThread\n",
            "resource2 in thread MainThread\n",
            "resource3 in thread MainThread\n",
            "resource1 in thread MainThread\n",
            "resource2 in thread MainThread\n",
            "resource3 in thread MainThread\n",
            "resource1 in thread MainThread\n",
            "resource2 in thread MainThread\n",
            "resource3 in thread MainThread\n",
            "resource1 in thread MainThread\n",
            "resource2 in thread MainThread\n",
            "resource3 in thread MainThread\n",
            "resource1 in thread MainThread\n",
            "resource2 in thread MainThread\n",
            "resource3 in thread MainThread\n",
            "resource1 in thread MainThread\n",
            "resource2 in thread MainThread\n",
            "resource3 in thread MainThread\n",
            "resource1 in thread MainThread\n",
            "resource2 in thread MainThread\n",
            "resource3 in thread MainThread\n",
            "resource1 in thread MainThread\n",
            "resource2 in thread MainThread\n",
            "resource3 in thread MainThread\n",
            "resource1 in thread MainThread\n",
            "resource2 in thread MainThread\n",
            "resource3 in thread MainThread\n",
            "resource1 in thread MainThread\n",
            "resource2 in thread MainThread\n",
            "resource3 in thread MainThread\n",
            "resource1 in thread MainThread\n",
            "resource2 in thread MainThread\n",
            "resource3 in thread MainThread\n",
            "resource1 in thread MainThread\n",
            "resource2 in thread MainThread\n",
            "resource3 in thread MainThread\n",
            "resource1 in thread MainThread\n",
            "resource2 in thread MainThread\n",
            "resource3 in thread MainThread\n",
            "resource1 in thread MainThread\n",
            "resource2 in thread MainThread\n",
            "resource3 in thread MainThread\n",
            "resource1 in thread MainThread\n",
            "resource2 in thread MainThread\n",
            "resource3 in thread MainThread\n",
            "resource1 in thread MainThread\n",
            "resource2 in thread MainThread\n",
            "resource3 in thread MainThread\n",
            "resource1 in thread MainThread\n",
            "resource2 in thread MainThread\n",
            "resource3 in thread MainThread\n",
            "resource1 in thread MainThread\n",
            "resource2 in thread MainThread\n",
            "resource3 in thread MainThread\n",
            "Run started at 2025-05-06 12:14:03.971534+00:00 and COMPLETED in 3.15 seconds with 1 steps.\n",
            "Step extract COMPLETED in 3.15 seconds.\n",
            "\n",
            "Load package 1746533643.9820213 is EXTRACTED and NOT YET LOADED to the destination and contains no failed jobs\n"
          ]
        }
      ]
    },
    {
      "cell_type": "markdown",
      "source": [
        "**What Happened in the above code?**\n",
        "- dlt is extracting rows from the resources in a round robin fashion (one row from each resource) and within the `MainThread`\n",
        "- Parallelism is not enabled therefore the resources are executed sequentially\n",
        "\n",
        "\n",
        "**Let's Enable Parallelism**\n",
        "- Add `parallelized=True` to each resource — allowing `dlt` to extract from all three **at the same time**, using separate threads."
      ],
      "metadata": {
        "id": "hYt4jn7_hQbG"
      }
    },
    {
      "cell_type": "code",
      "source": [
        "import os\n",
        "import dlt\n",
        "import time\n",
        "from threading import current_thread\n",
        "\n",
        "def get_rows(limit):\n",
        "    yield from map(lambda n: {\"row\": n}, range(limit))\n",
        "\n",
        "\n",
        "# Resource 1: slow generator, runs in a separate thread\n",
        "@dlt.resource(name=\"resource1\", parallelized=True)\n",
        "def buffered_resource1():\n",
        "    for row in get_rows(100):\n",
        "        time.sleep(0.01)  # Simulate slow API call\n",
        "        print(f\"resource1 in thread {current_thread().name}\")\n",
        "        yield row\n",
        "\n",
        "\n",
        "@dlt.resource(name=\"resource2\", parallelized=True)\n",
        "def buffered_resource2():\n",
        "    for row in get_rows(100):\n",
        "        time.sleep(0.01)\n",
        "        print(f\"resource2 in thread {current_thread().name}\")\n",
        "        yield row\n",
        "\n",
        "\n",
        "@dlt.resource(name=\"resource3\", parallelized=True)\n",
        "def buffered_resource3():\n",
        "    for row in get_rows(100):\n",
        "        time.sleep(0.01)\n",
        "        print(f\"resource3 in thread {current_thread().name}\")\n",
        "        yield row\n",
        "\n",
        "\n",
        "@dlt.source\n",
        "def source():\n",
        "    return buffered_resource1, buffered_resource2, buffered_resource3\n",
        "\n",
        "\n",
        "pipeline = dlt.pipeline(\n",
        "    pipeline_name=\"extract_pipeline4\",\n",
        "    destination=\"duckdb\",\n",
        "    dataset_name=\"mydata\",\n",
        "    dev_mode=True,\n",
        ")\n",
        "\n",
        "\n",
        "load_info = pipeline.extract(source())\n",
        "print(pipeline.last_trace)"
      ],
      "metadata": {
        "colab": {
          "base_uri": "https://localhost:8080/"
        },
        "id": "3xEcSgMDhGG5",
        "outputId": "8c0983c6-568a-4efd-b6f8-d626e436acf0"
      },
      "execution_count": 3,
      "outputs": [
        {
          "output_type": "stream",
          "name": "stdout",
          "text": [
            "resource1 in thread dlt-pool-135345135198208-threads_0\n",
            "resource2 in thread dlt-pool-135345135198208-threads_1\n",
            "resource3 in thread dlt-pool-135345135198208-threads_2\n",
            "resource2 in thread dlt-pool-135345135198208-threads_0\n",
            "resource3 in thread dlt-pool-135345135198208-threads_1\n",
            "resource1 in thread dlt-pool-135345135198208-threads_2\n",
            "resource1 in thread dlt-pool-135345135198208-threads_0\n",
            "resource3 in thread dlt-pool-135345135198208-threads_2\n",
            "resource2 in thread dlt-pool-135345135198208-threads_1\n",
            "resource3 in thread dlt-pool-135345135198208-threads_0\n",
            "resource2 in thread dlt-pool-135345135198208-threads_1\n",
            "resource1 in thread dlt-pool-135345135198208-threads_2\n",
            "resource3 in thread dlt-pool-135345135198208-threads_1\n",
            "resource2 in thread dlt-pool-135345135198208-threads_0\n",
            "resource1 in thread dlt-pool-135345135198208-threads_2\n",
            "resource1 in thread dlt-pool-135345135198208-threads_1\n",
            "resource3 in thread dlt-pool-135345135198208-threads_2\n",
            "resource2 in thread dlt-pool-135345135198208-threads_0\n",
            "resource1 in thread dlt-pool-135345135198208-threads_2\n",
            "resource3 in thread dlt-pool-135345135198208-threads_0\n",
            "resource2 in thread dlt-pool-135345135198208-threads_1\n",
            "resource1 in thread dlt-pool-135345135198208-threads_0\n",
            "resource3 in thread dlt-pool-135345135198208-threads_1\n",
            "resource2 in thread dlt-pool-135345135198208-threads_2\n",
            "resource1 in thread dlt-pool-135345135198208-threads_1\n",
            "resource3 in thread dlt-pool-135345135198208-threads_2\n",
            "resource2 in thread dlt-pool-135345135198208-threads_0\n",
            "resource1 in thread dlt-pool-135345135198208-threads_2\n",
            "resource3 in thread dlt-pool-135345135198208-threads_1\n",
            "resource2 in thread dlt-pool-135345135198208-threads_0\n",
            "resource1 in thread dlt-pool-135345135198208-threads_1\n",
            "resource2 in thread dlt-pool-135345135198208-threads_2\n",
            "resource3 in thread dlt-pool-135345135198208-threads_0\n",
            "resource1 in thread dlt-pool-135345135198208-threads_2\n",
            "resource3 in thread dlt-pool-135345135198208-threads_1\n",
            "resource2 in thread dlt-pool-135345135198208-threads_0\n",
            "resource3 in thread dlt-pool-135345135198208-threads_1\n",
            "resource2 in thread dlt-pool-135345135198208-threads_0\n",
            "resource1 in thread dlt-pool-135345135198208-threads_2\n",
            "resource2 in thread dlt-pool-135345135198208-threads_1\n",
            "resource3 in thread dlt-pool-135345135198208-threads_0\n",
            "resource1 in thread dlt-pool-135345135198208-threads_2\n",
            "resource2 in thread dlt-pool-135345135198208-threads_0\n",
            "resource3 in thread dlt-pool-135345135198208-threads_1\n",
            "resource1 in thread dlt-pool-135345135198208-threads_2\n",
            "resource3 in thread dlt-pool-135345135198208-threads_0\n",
            "resource2 in thread dlt-pool-135345135198208-threads_1\n",
            "resource1 in thread dlt-pool-135345135198208-threads_2\n",
            "resource2 in thread dlt-pool-135345135198208-threads_1\n",
            "resource3 in thread dlt-pool-135345135198208-threads_0\n",
            "resource1 in thread dlt-pool-135345135198208-threads_2\n",
            "resource3 in thread dlt-pool-135345135198208-threads_1\n",
            "resource2 in thread dlt-pool-135345135198208-threads_0\n",
            "resource1 in thread dlt-pool-135345135198208-threads_2\n",
            "resource2 in thread dlt-pool-135345135198208-threads_0\n",
            "resource3 in thread dlt-pool-135345135198208-threads_1\n",
            "resource1 in thread dlt-pool-135345135198208-threads_2\n",
            "resource2 in thread dlt-pool-135345135198208-threads_1\n",
            "resource3 in thread dlt-pool-135345135198208-threads_0\n",
            "resource1 in thread dlt-pool-135345135198208-threads_2\n",
            "resource2 in thread dlt-pool-135345135198208-threads_0\n",
            "resource3 in thread dlt-pool-135345135198208-threads_1\n",
            "resource1 in thread dlt-pool-135345135198208-threads_2\n",
            "resource2 in thread dlt-pool-135345135198208-threads_1\n",
            "resource3 in thread dlt-pool-135345135198208-threads_0\n",
            "resource1 in thread dlt-pool-135345135198208-threads_2\n",
            "resource3 in thread dlt-pool-135345135198208-threads_1\n",
            "resource2 in thread dlt-pool-135345135198208-threads_0\n",
            "resource1 in thread dlt-pool-135345135198208-threads_2\n",
            "resource3 in thread dlt-pool-135345135198208-threads_1\n",
            "resource2 in thread dlt-pool-135345135198208-threads_0\n",
            "resource1 in thread dlt-pool-135345135198208-threads_2\n",
            "resource2 in thread dlt-pool-135345135198208-threads_0\n",
            "resource3 in thread dlt-pool-135345135198208-threads_1\n",
            "resource1 in thread dlt-pool-135345135198208-threads_2\n",
            "resource2 in thread dlt-pool-135345135198208-threads_1\n",
            "resource3 in thread dlt-pool-135345135198208-threads_0\n",
            "resource1 in thread dlt-pool-135345135198208-threads_2\n",
            "resource2 in thread dlt-pool-135345135198208-threads_0\n",
            "resource3 in thread dlt-pool-135345135198208-threads_1\n",
            "resource1 in thread dlt-pool-135345135198208-threads_2\n",
            "resource3 in thread dlt-pool-135345135198208-threads_0\n",
            "resource1 in thread dlt-pool-135345135198208-threads_1\n",
            "resource2 in thread dlt-pool-135345135198208-threads_2\n",
            "resource3 in thread dlt-pool-135345135198208-threads_2\n",
            "resource2 in thread dlt-pool-135345135198208-threads_1\n",
            "resource1 in thread dlt-pool-135345135198208-threads_0\n",
            "resource2 in thread dlt-pool-135345135198208-threads_2\n",
            "resource3 in thread dlt-pool-135345135198208-threads_1\n",
            "resource1 in thread dlt-pool-135345135198208-threads_0\n",
            "resource1 in thread dlt-pool-135345135198208-threads_2\n",
            "resource2 in thread dlt-pool-135345135198208-threads_1\n",
            "resource3 in thread dlt-pool-135345135198208-threads_0\n",
            "resource3 in thread dlt-pool-135345135198208-threads_2\n",
            "resource1 in thread dlt-pool-135345135198208-threads_1\n",
            "resource2 in thread dlt-pool-135345135198208-threads_0\n",
            "resource2 in thread dlt-pool-135345135198208-threads_2\n",
            "resource3 in thread dlt-pool-135345135198208-threads_1\n",
            "resource1 in thread dlt-pool-135345135198208-threads_0\n",
            "resource2 in thread dlt-pool-135345135198208-threads_0\n",
            "resource1 in thread dlt-pool-135345135198208-threads_1\n",
            "resource3 in thread dlt-pool-135345135198208-threads_2\n",
            "resource1 in thread dlt-pool-135345135198208-threads_0\n",
            "resource2 in thread dlt-pool-135345135198208-threads_1\n",
            "resource3 in thread dlt-pool-135345135198208-threads_2\n",
            "resource3 in thread dlt-pool-135345135198208-threads_1\n",
            "resource1 in thread dlt-pool-135345135198208-threads_2\n",
            "resource2 in thread dlt-pool-135345135198208-threads_0\n",
            "resource1 in thread dlt-pool-135345135198208-threads_1\n",
            "resource2 in thread dlt-pool-135345135198208-threads_2\n",
            "resource3 in thread dlt-pool-135345135198208-threads_0\n",
            "resource2 in thread dlt-pool-135345135198208-threads_1\n",
            "resource3 in thread dlt-pool-135345135198208-threads_2\n",
            "resource1 in thread dlt-pool-135345135198208-threads_0\n",
            "resource1 in thread dlt-pool-135345135198208-threads_1\n",
            "resource2 in thread dlt-pool-135345135198208-threads_2\n",
            "resource3 in thread dlt-pool-135345135198208-threads_0\n",
            "resource1 in thread dlt-pool-135345135198208-threads_2\n",
            "resource2 in thread dlt-pool-135345135198208-threads_0\n",
            "resource3 in thread dlt-pool-135345135198208-threads_1\n",
            "resource2 in thread dlt-pool-135345135198208-threads_0\n",
            "resource3 in thread dlt-pool-135345135198208-threads_1\n",
            "resource1 in thread dlt-pool-135345135198208-threads_2\n",
            "resource3 in thread dlt-pool-135345135198208-threads_1\n",
            "resource2 in thread dlt-pool-135345135198208-threads_0\n",
            "resource1 in thread dlt-pool-135345135198208-threads_2\n",
            "resource3 in thread dlt-pool-135345135198208-threads_2\n",
            "resource2 in thread dlt-pool-135345135198208-threads_1\n",
            "resource1 in thread dlt-pool-135345135198208-threads_0\n",
            "resource2 in thread dlt-pool-135345135198208-threads_0\n",
            "resource1 in thread dlt-pool-135345135198208-threads_1\n",
            "resource3 in thread dlt-pool-135345135198208-threads_2\n",
            "resource3 in thread dlt-pool-135345135198208-threads_1\n",
            "resource1 in thread dlt-pool-135345135198208-threads_2\n",
            "resource2 in thread dlt-pool-135345135198208-threads_0\n",
            "resource3 in thread dlt-pool-135345135198208-threads_2\n",
            "resource2 in thread dlt-pool-135345135198208-threads_0\n",
            "resource1 in thread dlt-pool-135345135198208-threads_1\n",
            "resource3 in thread dlt-pool-135345135198208-threads_0\n",
            "resource2 in thread dlt-pool-135345135198208-threads_1\n",
            "resource1 in thread dlt-pool-135345135198208-threads_2\n",
            "resource3 in thread dlt-pool-135345135198208-threads_1\n",
            "resource1 in thread dlt-pool-135345135198208-threads_0\n",
            "resource2 in thread dlt-pool-135345135198208-threads_2\n",
            "resource3 in thread dlt-pool-135345135198208-threads_1\n",
            "resource1 in thread dlt-pool-135345135198208-threads_2\n",
            "resource2 in thread dlt-pool-135345135198208-threads_0\n",
            "resource3 in thread dlt-pool-135345135198208-threads_1\n",
            "resource1 in thread dlt-pool-135345135198208-threads_0\n",
            "resource2 in thread dlt-pool-135345135198208-threads_2\n",
            "resource3 in thread dlt-pool-135345135198208-threads_1\n",
            "resource1 in thread dlt-pool-135345135198208-threads_2\n",
            "resource2 in thread dlt-pool-135345135198208-threads_0\n",
            "resource3 in thread dlt-pool-135345135198208-threads_1\n",
            "resource1 in thread dlt-pool-135345135198208-threads_0\n",
            "resource2 in thread dlt-pool-135345135198208-threads_2\n",
            "resource3 in thread dlt-pool-135345135198208-threads_0\n",
            "resource1 in thread dlt-pool-135345135198208-threads_2\n",
            "resource2 in thread dlt-pool-135345135198208-threads_1\n",
            "resource3 in thread dlt-pool-135345135198208-threads_0\n",
            "resource2 in thread dlt-pool-135345135198208-threads_2\n",
            "resource1 in thread dlt-pool-135345135198208-threads_1\n",
            "resource3 in thread dlt-pool-135345135198208-threads_0\n",
            "resource2 in thread dlt-pool-135345135198208-threads_2\n",
            "resource1 in thread dlt-pool-135345135198208-threads_1\n",
            "resource3 in thread dlt-pool-135345135198208-threads_0\n",
            "resource1 in thread dlt-pool-135345135198208-threads_1\n",
            "resource2 in thread dlt-pool-135345135198208-threads_2\n",
            "resource3 in thread dlt-pool-135345135198208-threads_0\n",
            "resource1 in thread dlt-pool-135345135198208-threads_2\n",
            "resource2 in thread dlt-pool-135345135198208-threads_1\n",
            "resource3 in thread dlt-pool-135345135198208-threads_2\n",
            "resource2 in thread dlt-pool-135345135198208-threads_0\n",
            "resource1 in thread dlt-pool-135345135198208-threads_1\n",
            "resource3 in thread dlt-pool-135345135198208-threads_2\n",
            "resource2 in thread dlt-pool-135345135198208-threads_0\n",
            "resource1 in thread dlt-pool-135345135198208-threads_1\n",
            "resource3 in thread dlt-pool-135345135198208-threads_2\n",
            "resource2 in thread dlt-pool-135345135198208-threads_1\n",
            "resource1 in thread dlt-pool-135345135198208-threads_0\n",
            "resource3 in thread dlt-pool-135345135198208-threads_2\n",
            "resource2 in thread dlt-pool-135345135198208-threads_1\n",
            "resource1 in thread dlt-pool-135345135198208-threads_0\n",
            "resource3 in thread dlt-pool-135345135198208-threads_2\n",
            "resource2 in thread dlt-pool-135345135198208-threads_1\n",
            "resource1 in thread dlt-pool-135345135198208-threads_0\n",
            "resource3 in thread dlt-pool-135345135198208-threads_2\n",
            "resource2 in thread dlt-pool-135345135198208-threads_1\n",
            "resource1 in thread dlt-pool-135345135198208-threads_0\n",
            "resource3 in thread dlt-pool-135345135198208-threads_2\n",
            "resource2 in thread dlt-pool-135345135198208-threads_0\n",
            "resource1 in thread dlt-pool-135345135198208-threads_1\n",
            "resource3 in thread dlt-pool-135345135198208-threads_2\n",
            "resource2 in thread dlt-pool-135345135198208-threads_0\n",
            "resource1 in thread dlt-pool-135345135198208-threads_1\n",
            "resource3 in thread dlt-pool-135345135198208-threads_2\n",
            "resource2 in thread dlt-pool-135345135198208-threads_1\n",
            "resource1 in thread dlt-pool-135345135198208-threads_0\n",
            "resource3 in thread dlt-pool-135345135198208-threads_1\n",
            "resource2 in thread dlt-pool-135345135198208-threads_0\n",
            "resource1 in thread dlt-pool-135345135198208-threads_2\n",
            "resource3 in thread dlt-pool-135345135198208-threads_1\n",
            "resource2 in thread dlt-pool-135345135198208-threads_2\n",
            "resource1 in thread dlt-pool-135345135198208-threads_0\n",
            "resource3 in thread dlt-pool-135345135198208-threads_1\n",
            "resource2 in thread dlt-pool-135345135198208-threads_0\n",
            "resource1 in thread dlt-pool-135345135198208-threads_2\n",
            "resource3 in thread dlt-pool-135345135198208-threads_0\n",
            "resource2 in thread dlt-pool-135345135198208-threads_1\n",
            "resource1 in thread dlt-pool-135345135198208-threads_2\n",
            "resource3 in thread dlt-pool-135345135198208-threads_1\n",
            "resource1 in thread dlt-pool-135345135198208-threads_2\n",
            "resource2 in thread dlt-pool-135345135198208-threads_0\n",
            "resource3 in thread dlt-pool-135345135198208-threads_2\n",
            "resource1 in thread dlt-pool-135345135198208-threads_1\n",
            "resource2 in thread dlt-pool-135345135198208-threads_0\n",
            "resource3 in thread dlt-pool-135345135198208-threads_1\n",
            "resource2 in thread dlt-pool-135345135198208-threads_2\n",
            "resource1 in thread dlt-pool-135345135198208-threads_0\n",
            "resource3 in thread dlt-pool-135345135198208-threads_2\n",
            "resource2 in thread dlt-pool-135345135198208-threads_1\n",
            "resource1 in thread dlt-pool-135345135198208-threads_0\n",
            "resource3 in thread dlt-pool-135345135198208-threads_2\n",
            "resource2 in thread dlt-pool-135345135198208-threads_0\n",
            "resource1 in thread dlt-pool-135345135198208-threads_1\n",
            "resource3 in thread dlt-pool-135345135198208-threads_2\n",
            "resource2 in thread dlt-pool-135345135198208-threads_0\n",
            "resource1 in thread dlt-pool-135345135198208-threads_1\n",
            "resource3 in thread dlt-pool-135345135198208-threads_2\n",
            "resource2 in thread dlt-pool-135345135198208-threads_0\n",
            "resource1 in thread dlt-pool-135345135198208-threads_1\n",
            "resource3 in thread dlt-pool-135345135198208-threads_0\n",
            "resource2 in thread dlt-pool-135345135198208-threads_2\n",
            "resource1 in thread dlt-pool-135345135198208-threads_1\n",
            "resource3 in thread dlt-pool-135345135198208-threads_2\n",
            "resource2 in thread dlt-pool-135345135198208-threads_1\n",
            "resource1 in thread dlt-pool-135345135198208-threads_0\n",
            "resource3 in thread dlt-pool-135345135198208-threads_1\n",
            "resource2 in thread dlt-pool-135345135198208-threads_0\n",
            "resource1 in thread dlt-pool-135345135198208-threads_2\n",
            "resource3 in thread dlt-pool-135345135198208-threads_0\n",
            "resource2 in thread dlt-pool-135345135198208-threads_2\n",
            "resource1 in thread dlt-pool-135345135198208-threads_1\n",
            "resource3 in thread dlt-pool-135345135198208-threads_2\n",
            "resource2 in thread dlt-pool-135345135198208-threads_0\n",
            "resource1 in thread dlt-pool-135345135198208-threads_1\n",
            "resource3 in thread dlt-pool-135345135198208-threads_0\n",
            "resource2 in thread dlt-pool-135345135198208-threads_1\n",
            "resource1 in thread dlt-pool-135345135198208-threads_2\n",
            "resource3 in thread dlt-pool-135345135198208-threads_1\n",
            "resource2 in thread dlt-pool-135345135198208-threads_2\n",
            "resource1 in thread dlt-pool-135345135198208-threads_0\n",
            "resource3 in thread dlt-pool-135345135198208-threads_1\n",
            "resource2 in thread dlt-pool-135345135198208-threads_0\n",
            "resource1 in thread dlt-pool-135345135198208-threads_2\n",
            "resource3 in thread dlt-pool-135345135198208-threads_1\n",
            "resource2 in thread dlt-pool-135345135198208-threads_0\n",
            "resource1 in thread dlt-pool-135345135198208-threads_2\n",
            "resource3 in thread dlt-pool-135345135198208-threads_0\n",
            "resource2 in thread dlt-pool-135345135198208-threads_2\n",
            "resource1 in thread dlt-pool-135345135198208-threads_1\n",
            "resource3 in thread dlt-pool-135345135198208-threads_2\n",
            "resource2 in thread dlt-pool-135345135198208-threads_1\n",
            "resource1 in thread dlt-pool-135345135198208-threads_0\n",
            "resource3 in thread dlt-pool-135345135198208-threads_2\n",
            "resource2 in thread dlt-pool-135345135198208-threads_0\n",
            "resource1 in thread dlt-pool-135345135198208-threads_1\n",
            "resource3 in thread dlt-pool-135345135198208-threads_2\n",
            "resource2 in thread dlt-pool-135345135198208-threads_1\n",
            "resource1 in thread dlt-pool-135345135198208-threads_0\n",
            "resource3 in thread dlt-pool-135345135198208-threads_2\n",
            "resource2 in thread dlt-pool-135345135198208-threads_0\n",
            "resource1 in thread dlt-pool-135345135198208-threads_1\n",
            "resource3 in thread dlt-pool-135345135198208-threads_0\n",
            "resource2 in thread dlt-pool-135345135198208-threads_1\n",
            "resource1 in thread dlt-pool-135345135198208-threads_2\n",
            "resource3 in thread dlt-pool-135345135198208-threads_1\n",
            "resource2 in thread dlt-pool-135345135198208-threads_2\n",
            "resource1 in thread dlt-pool-135345135198208-threads_0\n",
            "resource3 in thread dlt-pool-135345135198208-threads_2\n",
            "resource2 in thread dlt-pool-135345135198208-threads_1\n",
            "resource1 in thread dlt-pool-135345135198208-threads_0\n",
            "resource3 in thread dlt-pool-135345135198208-threads_1\n",
            "resource2 in thread dlt-pool-135345135198208-threads_2\n",
            "resource1 in thread dlt-pool-135345135198208-threads_0\n",
            "resource3 in thread dlt-pool-135345135198208-threads_2\n",
            "resource2 in thread dlt-pool-135345135198208-threads_0\n",
            "resource1 in thread dlt-pool-135345135198208-threads_1\n",
            "resource3 in thread dlt-pool-135345135198208-threads_0\n",
            "resource2 in thread dlt-pool-135345135198208-threads_2\n",
            "resource1 in thread dlt-pool-135345135198208-threads_1\n",
            "resource3 in thread dlt-pool-135345135198208-threads_1\n",
            "resource1 in thread dlt-pool-135345135198208-threads_2\n",
            "resource2 in thread dlt-pool-135345135198208-threads_0\n",
            "resource3 in thread dlt-pool-135345135198208-threads_2\n",
            "resource2 in thread dlt-pool-135345135198208-threads_0\n",
            "resource1 in thread dlt-pool-135345135198208-threads_1\n",
            "resource3 in thread dlt-pool-135345135198208-threads_0\n",
            "resource1 in thread dlt-pool-135345135198208-threads_1\n",
            "resource2 in thread dlt-pool-135345135198208-threads_2\n",
            "Run started at 2025-05-06 12:17:33.577986+00:00 and COMPLETED in 1.16 seconds with 1 steps.\n",
            "Step extract COMPLETED in 1.16 seconds.\n",
            "\n",
            "Load package 1746533853.5884953 is EXTRACTED and NOT YET LOADED to the destination and contains no failed jobs\n"
          ]
        }
      ]
    },
    {
      "cell_type": "markdown",
      "source": [
        "The example below does the same but using an async generator as the main resource and async/await and futures pool for the transformer.\n",
        "\n",
        "**Example 1 — Synchronous execution (sequential, slow)**"
      ],
      "metadata": {
        "id": "yWlrqPXMiVdq"
      }
    },
    {
      "cell_type": "code",
      "source": [
        "import time\n",
        "import dlt\n",
        "\n",
        "@dlt.resource\n",
        "def sync_items():\n",
        "    for i in range(10):\n",
        "        time.sleep(0.5)  # Blocking call\n",
        "        yield i\n",
        "\n",
        "\n",
        "@dlt.transformer\n",
        "def sync_transform(item):\n",
        "    time.sleep(0.5)  # Also blocking\n",
        "    return {\"row\": item}\n",
        "\n",
        "\n",
        "start = time.time()\n",
        "result = list(sync_items() | sync_transform)\n",
        "print(f\"Sync result: {result}\")\n",
        "print(\"Sync elapsed time:\", round(time.time() - start, 2), \"seconds\")\n"
      ],
      "metadata": {
        "colab": {
          "base_uri": "https://localhost:8080/"
        },
        "id": "mtc6dYcWh6me",
        "outputId": "421e1b40-f7f1-49c7-f228-c29190942e21"
      },
      "execution_count": 4,
      "outputs": [
        {
          "output_type": "stream",
          "name": "stdout",
          "text": [
            "Sync result: [{'row': 0}, {'row': 1}, {'row': 2}, {'row': 3}, {'row': 4}, {'row': 5}, {'row': 6}, {'row': 7}, {'row': 8}, {'row': 9}]\n",
            "Sync elapsed time: 10.02 seconds\n"
          ]
        }
      ]
    },
    {
      "cell_type": "markdown",
      "source": [
        "**Example 2 — Asynchronous execution (concurrent, fast)**"
      ],
      "metadata": {
        "id": "36ktY6NXieQg"
      }
    },
    {
      "cell_type": "code",
      "source": [
        "import asyncio\n",
        "import time\n",
        "import dlt\n",
        "\n",
        "@dlt.resource\n",
        "async def async_items():\n",
        "    for i in range(10):\n",
        "        await asyncio.sleep(0.5)  # Blocking\n",
        "        yield i\n",
        "\n",
        "\n",
        "@dlt.transformer\n",
        "async def async_transform(item):\n",
        "    await asyncio.sleep(0.5)  # Non-blocking\n",
        "    # just return the results, if you yield, generator will be evaluated in main thread\n",
        "    return {\"row\": item}\n",
        "\n",
        "\n",
        "start = time.time()\n",
        "print(list(async_items() | async_transform))\n",
        "print(\"Async elapsed time:\", round(time.time() - start, 2), \"seconds\")"
      ],
      "metadata": {
        "colab": {
          "base_uri": "https://localhost:8080/"
        },
        "id": "g2pJkF-PiY0x",
        "outputId": "29e8e904-74a1-4bc4-e982-a759711c991a"
      },
      "execution_count": 5,
      "outputs": [
        {
          "output_type": "stream",
          "name": "stdout",
          "text": [
            "[{'row': 0}, {'row': 1}, {'row': 2}, {'row': 3}, {'row': 4}, {'row': 5}, {'row': 6}, {'row': 7}, {'row': 8}, {'row': 9}]\n",
            "Async elapsed time: 5.54 seconds\n"
          ]
        }
      ]
    },
    {
      "cell_type": "markdown",
      "source": [
        "### **2.1.4. Yielding Chunks of Rows**\n",
        "- When dealing with APIs, they usually return data in *pages*, with each page containing some number of rows\n",
        "- Yield the whole page itself instead of rows"
      ],
      "metadata": {
        "id": "cPVUT4qSjbTb"
      }
    },
    {
      "cell_type": "code",
      "source": [
        "import os\n",
        "import dlt\n",
        "import time\n",
        "from threading import current_thread\n",
        "from itertools import islice\n",
        "\n",
        "def get_rows(limit):\n",
        "    yield from map(lambda n: {\"row\": n}, range(limit))\n",
        "\n",
        "\n",
        "def yield_chunks(iterable, chunk_size=10):\n",
        "    iterator = iter(iterable)\n",
        "    while chunk := list(islice(iterator, chunk_size)):  # <--- we slice data into chunks\n",
        "        time.sleep(0.01)  # Simulate slow API call\n",
        "        yield chunk\n",
        "\n",
        "\n",
        "# Chunked resources, run in parallel threads\n",
        "@dlt.resource(name=\"resource1\", parallelized=True)\n",
        "def buffered_resource1():\n",
        "    yield from yield_chunks(get_rows(100), chunk_size=10)\n",
        "\n",
        "\n",
        "@dlt.resource(name=\"resource2\", parallelized=True)\n",
        "def buffered_resource2():\n",
        "    yield from yield_chunks(get_rows(100), chunk_size=10)\n",
        "\n",
        "\n",
        "@dlt.resource(name=\"resource3\", parallelized=True)\n",
        "def buffered_resource3():\n",
        "    yield from yield_chunks(get_rows(100), chunk_size=10)\n",
        "\n",
        "\n",
        "@dlt.source\n",
        "def source():\n",
        "    return buffered_resource1, buffered_resource2, buffered_resource3\n",
        "\n",
        "\n",
        "pipeline = dlt.pipeline(\n",
        "    pipeline_name=\"extract_pipeline4\",\n",
        "    destination=\"duckdb\",\n",
        "    dataset_name=\"mydata\",\n",
        "    dev_mode=True,\n",
        ")\n",
        "\n",
        "load_info = pipeline.extract(source())\n",
        "print(pipeline.last_trace)"
      ],
      "metadata": {
        "colab": {
          "base_uri": "https://localhost:8080/"
        },
        "id": "2M-k32BYio4s",
        "outputId": "90a4fc9a-0ca2-4648-ab02-0508870d2e5b"
      },
      "execution_count": 6,
      "outputs": [
        {
          "output_type": "stream",
          "name": "stdout",
          "text": [
            "Run started at 2025-05-06 12:27:28.440056+00:00 and COMPLETED in 0.22 seconds with 1 steps.\n",
            "Step extract COMPLETED in 0.22 seconds.\n",
            "\n",
            "Load package 1746534448.4515538 is EXTRACTED and NOT YET LOADED to the destination and contains no failed jobs\n"
          ]
        }
      ]
    },
    {
      "cell_type": "markdown",
      "source": [
        "### **2.1.5. Enable File Rotation for Large Datasets**\n",
        "- File Rotation basically means that instead of creating 1 big intermediary file that will be loaded to the destination create multiple slightly smaller files\n",
        "\n",
        "- You can **enable file rotation** by setting a file size limit. For example:\n",
        "\n",
        "```python\n",
        "os.environ[\"EXTRACT__DATA_WRITER__FILE_MAX_ITEMS\"] = \"100000\"\n",
        "```\n",
        "\n",
        "This means:\n",
        "- Every 100,000 items, a new intermediary file will be created\n",
        "- If you have 1,000,000 rows, you'll end up with 10 files\n",
        "- Later, these files can be processed **in parallel** during normalization and load\n",
        "\n",
        "File rotation is essential for scaling up performance when dealing with large datasets.\n",
        "\n"
      ],
      "metadata": {
        "id": "O21nG7iCkQVj"
      }
    },
    {
      "cell_type": "markdown",
      "source": [
        "## **2.2. Normalize Stage Parallelism**\n",
        "\n",
        "Normalize Process\n",
        "1. Extracted files are passed to Normalize Process pool\n",
        "2. Each file is read, schema is resolved and data is transformed\n",
        "3. Rows are buffered and written to normalized intermediary files which are used for loading later\n",
        "\n",
        "\n",
        "**Default behavior**\n",
        "\n",
        "- **Buffer size**: 5,000 items\n",
        "- **Parallelism**: Off by default (runs in main process)\n",
        "- **File rotation**: Off by default — all rows written into one file\n",
        "- **Compression**: On by default\n",
        "\n",
        "**Normalization Bottlenecks**\n",
        "Normalization is a CPU intensive process, without parallelism large files can become bottlenecks\n",
        "\n",
        "Following sections will cover some techniques to optimize Normalization performance"
      ],
      "metadata": {
        "id": "XZa74mOTmiaI"
      }
    },
    {
      "cell_type": "markdown",
      "source": [
        "### **2.2.1. Enable Parallelism**\n",
        "\n",
        "You can increase the number of Normalization workers, by default it is 1\n",
        "```python\n",
        "   os.environ['NORMALIZE__WORKERS'] = '3'\n",
        "```"
      ],
      "metadata": {
        "id": "-ynisKyVn32D"
      }
    },
    {
      "cell_type": "code",
      "source": [
        "# example with default settings\n",
        "import os\n",
        "import dlt\n",
        "import time\n",
        "from threading import current_thread\n",
        "from itertools import islice\n",
        "\n",
        "\n",
        "def get_rows(limit):\n",
        "    yield from map(lambda n: {\"row\": n}, range(limit))\n",
        "\n",
        "\n",
        "def yield_chunks(iterable, chunk_size=10):\n",
        "    iterator = iter(iterable)\n",
        "    while chunk := list(islice(iterator, chunk_size)):  # <--- we slice data into chunks\n",
        "        time.sleep(0.01)  # Simulate slow API call\n",
        "        yield chunk\n",
        "\n",
        "\n",
        "# Chunked resources, run in parallel threads\n",
        "@dlt.resource(name=\"resource1\", parallelized=True)\n",
        "def buffered_resource1():\n",
        "    yield from yield_chunks(get_rows(1000000), chunk_size=10000)\n",
        "\n",
        "\n",
        "@dlt.resource(name=\"resource2\", parallelized=True)\n",
        "def buffered_resource2():\n",
        "    yield from yield_chunks(get_rows(1000000), chunk_size=10000)\n",
        "\n",
        "\n",
        "@dlt.source\n",
        "def source():\n",
        "    return buffered_resource1, buffered_resource2\n",
        "\n",
        "\n",
        "pipeline = dlt.pipeline(\n",
        "    pipeline_name=\"extract_pipeline_w1\",\n",
        "    destination=\"duckdb\",\n",
        "    dataset_name=\"mydata\",\n",
        "    dev_mode=True,\n",
        ")\n",
        "\n",
        "load_info = pipeline.extract(source())\n",
        "print(pipeline.last_trace)\n"
      ],
      "metadata": {
        "colab": {
          "base_uri": "https://localhost:8080/"
        },
        "id": "Q0E-NiNokL0L",
        "outputId": "6556abfc-dd05-4776-d381-fa5f72eb3dfb"
      },
      "execution_count": 7,
      "outputs": [
        {
          "output_type": "stream",
          "name": "stdout",
          "text": [
            "Run started at 2025-05-06 12:45:36.997635+00:00 and COMPLETED in 2.77 seconds with 1 steps.\n",
            "Step extract COMPLETED in 2.77 seconds.\n",
            "\n",
            "Load package 1746535537.023292 is EXTRACTED and NOT YET LOADED to the destination and contains no failed jobs\n"
          ]
        }
      ]
    },
    {
      "cell_type": "code",
      "source": [
        "import os\n",
        "import time\n",
        "\n",
        "os.environ['NORMALIZE__WORKERS'] = '1'\n",
        "\n",
        "load_info = pipeline.normalize()\n",
        "print(pipeline.last_trace)"
      ],
      "metadata": {
        "colab": {
          "base_uri": "https://localhost:8080/"
        },
        "id": "CLMTLWHloVgX",
        "outputId": "bd1710f9-7990-4443-f399-2849eb7114df"
      },
      "execution_count": 8,
      "outputs": [
        {
          "output_type": "stream",
          "name": "stdout",
          "text": [
            "Run started at 2025-05-06 12:45:36.997635+00:00 and COMPLETED in 1 minute and 16.71 seconds with 2 steps.\n",
            "Step extract COMPLETED in 2.77 seconds.\n",
            "\n",
            "Load package 1746535537.023292 is EXTRACTED and NOT YET LOADED to the destination and contains no failed jobs\n",
            "\n",
            "Step normalize COMPLETED in 56.62 seconds.\n",
            "Normalized data for the following tables:\n",
            "- resource2: 1000000 row(s)\n",
            "- _dlt_pipeline_state: 1 row(s)\n",
            "- resource1: 1000000 row(s)\n",
            "\n",
            "Load package 1746535537.023292 is NORMALIZED and NOT YET LOADED to the destination and contains no failed jobs\n"
          ]
        }
      ]
    },
    {
      "cell_type": "code",
      "source": [
        "import os\n",
        "os.cpu_count()"
      ],
      "metadata": {
        "colab": {
          "base_uri": "https://localhost:8080/"
        },
        "id": "12Z9UZSgoadq",
        "outputId": "8dde2bcb-4ad8-4165-f502-553b8906593f"
      },
      "execution_count": 9,
      "outputs": [
        {
          "output_type": "execute_result",
          "data": {
            "text/plain": [
              "2"
            ]
          },
          "metadata": {},
          "execution_count": 9
        }
      ]
    },
    {
      "cell_type": "code",
      "source": [
        "# Set the number of process workers to 2\n",
        "os.environ['NORMALIZE__WORKERS'] = '2'\n",
        "\n",
        "pipeline = dlt.pipeline(\n",
        "    pipeline_name=\"extract_pipeline_w2\",\n",
        "    destination=\"duckdb\",\n",
        "    dataset_name=\"mydata\",\n",
        "    dev_mode=True,\n",
        ")\n",
        "\n",
        "\n",
        "load_info = pipeline.extract(source())\n",
        "load_info = pipeline.normalize()\n",
        "\n",
        "print(pipeline.last_trace)"
      ],
      "metadata": {
        "colab": {
          "base_uri": "https://localhost:8080/"
        },
        "id": "3bPODorWoqPE",
        "outputId": "a48aa860-a1e7-4c7a-97a1-7be7c35d5c49"
      },
      "execution_count": 10,
      "outputs": [
        {
          "output_type": "stream",
          "name": "stdout",
          "text": [
            "Run started at 2025-05-06 12:47:15.362159+00:00 and COMPLETED in 58.09 seconds with 2 steps.\n",
            "Step extract COMPLETED in 3.38 seconds.\n",
            "\n",
            "Load package 1746535635.3731623 is EXTRACTED and NOT YET LOADED to the destination and contains no failed jobs\n",
            "\n",
            "Step normalize COMPLETED in 54.70 seconds.\n",
            "Normalized data for the following tables:\n",
            "- _dlt_pipeline_state: 1 row(s)\n",
            "- resource1: 1000000 row(s)\n",
            "- resource2: 1000000 row(s)\n",
            "\n",
            "Load package 1746535635.3731623 is NORMALIZED and NOT YET LOADED to the destination and contains no failed jobs\n"
          ]
        }
      ]
    },
    {
      "cell_type": "markdown",
      "source": [
        "### **2.2.2. Enable File Rotation for Large Datasets**\n",
        "\n",
        "By default, all normalized data goes into **one big file** — which means **only one process** can handle it. That kills parallelism.\n",
        "\n",
        "To change that setting you can set:\n",
        "\n",
        "```python\n",
        "os.environ[\"NORMALIZE__DATA_WRITER__FILE_MAX_ITEMS\"] = \"100000\"\n",
        "```\n",
        "\n",
        "Now `dlt` will:\n",
        "- Split data into smaller files (e.g., 10 files for 1M rows)\n",
        "- Load them **in parallel** using multiple workers\n",
        "- Speed up loading\n"
      ],
      "metadata": {
        "id": "WeDsF64Vo3_D"
      }
    },
    {
      "cell_type": "markdown",
      "source": [
        "### **2.2.3. Disable Compression or Increase Buffer Size**\n",
        "\n",
        "**Disable compression (for debugging or speed)**\n",
        "  ```python\n",
        "  os.environ['NORMALIZE_DATA_WRITER__DISABLE_COMPRESSION'] = 'true'\n",
        "  ```\n",
        "\n",
        "**Control buffer size**\n",
        "```python\n",
        "os.environ['NORMALIZE__DATA_WRITER__BUFFER_MAX_ITEMS'] = '10000'\n",
        "```\n"
      ],
      "metadata": {
        "id": "8dKWmtQ6pm0j"
      }
    },
    {
      "cell_type": "markdown",
      "source": [
        "## **2.3. Load Stage Parallelism**\n",
        "\n",
        "This stage uses a **thread pool**, where:\n",
        "1. Each thread loads one normalized file at a time.\n",
        "2. Files from the same source are bundled into a **load package**.\n",
        "3. Packages are loaded into the destination concurrently.\n",
        "\n",
        "**Default behavior**\n",
        "\n",
        "- `dlt` uses **20 threads** by default\n",
        "- Each thread processes one file\n",
        "- All file contents are already normalized — there’s no parsing or schema detection at this point, so it’s mostly **I/O-bound**"
      ],
      "metadata": {
        "id": "vyUuTu3Cp9D_"
      }
    },
    {
      "cell_type": "markdown",
      "source": [
        "### **2.3.1. How to optimize loading?**\n",
        "\n",
        "\n",
        "1. **Control the number of threads**  \n",
        "   Set this based on your destination’s capacity:\n",
        "\n",
        "   ```python\n",
        "   os.environ[\"LOAD__WORKERS\"] = \"4\"\n",
        "   ```\n",
        "\n",
        "2. **Rotate files during normalization**  \n",
        "   If all your data is in **one big file**, you’ll still have only **one load job**. To unlock real parallelism:\n",
        "   ```python\n",
        "   os.environ[\"NORMALIZE__DATA_WRITER__FILE_MAX_ITEMS\"] = \"100000\"\n",
        "   ```\n"
      ],
      "metadata": {
        "id": "06FwBqMiqjR-"
      }
    },
    {
      "cell_type": "code",
      "source": [
        "# example using only 1 thread for loading\n",
        "import os\n",
        "import dlt\n",
        "import time\n",
        "from threading import current_thread\n",
        "from itertools import islice\n",
        "\n",
        "\n",
        "def get_rows(limit):\n",
        "    yield from map(lambda n: {\"row\": n}, range(limit))\n",
        "\n",
        "\n",
        "def yield_chunks(iterable, chunk_size=10):\n",
        "    iterator = iter(iterable)\n",
        "    while chunk := list(islice(iterator, chunk_size)):  # <--- we slice data into chunks\n",
        "        time.sleep(0.01)  # Simulate slow API call\n",
        "        yield chunk\n",
        "\n",
        "\n",
        "# Chunked resources, run in parallel threads\n",
        "@dlt.resource(name=\"resource1\", parallelized=True)\n",
        "def buffered_resource1():\n",
        "    yield from yield_chunks(get_rows(1000000), chunk_size=10000)\n",
        "\n",
        "\n",
        "@dlt.resource(name=\"resource2\", parallelized=True)\n",
        "def buffered_resource2():\n",
        "    yield from yield_chunks(get_rows(1000000), chunk_size=10000)\n",
        "\n",
        "\n",
        "\n",
        "@dlt.resource(name=\"resource3\", parallelized=True)\n",
        "def buffered_resource3():\n",
        "    yield from yield_chunks(get_rows(1000000), chunk_size=10000)\n",
        "\n",
        "\n",
        "@dlt.source\n",
        "def source():\n",
        "    return buffered_resource1, buffered_resource2, buffered_resource3\n",
        "\n",
        "# Set the number of thread workers to 1\n",
        "os.environ['LOAD__WORKERS'] = '1'\n",
        "\n",
        "pipeline = dlt.pipeline(\n",
        "    pipeline_name=\"extract_pipeline_load1\",\n",
        "    destination=\"duckdb\",\n",
        "    dataset_name=\"mydata\",\n",
        "    dev_mode=True,\n",
        ")\n",
        "\n",
        "\n",
        "pipeline.extract(source())\n",
        "pipeline.normalize()\n",
        "pipeline.load()\n",
        "\n",
        "\n",
        "print(pipeline.last_trace)"
      ],
      "metadata": {
        "colab": {
          "base_uri": "https://localhost:8080/"
        },
        "id": "cVVI1VHjotlE",
        "outputId": "05775755-cc40-49d2-8d26-789fcddfab5d"
      },
      "execution_count": 11,
      "outputs": [
        {
          "output_type": "stream",
          "name": "stdout",
          "text": [
            "Run started at 2025-05-06 12:56:23.217997+00:00 and COMPLETED in 3 minutes and 27.38 seconds with 3 steps.\n",
            "Step extract COMPLETED in 3.70 seconds.\n",
            "\n",
            "Load package 1746536183.2282429 is EXTRACTED and NOT YET LOADED to the destination and contains no failed jobs\n",
            "\n",
            "Step normalize COMPLETED in 1 minute and 16.07 seconds.\n",
            "Normalized data for the following tables:\n",
            "- _dlt_pipeline_state: 1 row(s)\n",
            "- resource1: 1000000 row(s)\n",
            "- resource2: 1000000 row(s)\n",
            "- resource3: 1000000 row(s)\n",
            "\n",
            "Load package 1746536183.2282429 is NORMALIZED and NOT YET LOADED to the destination and contains no failed jobs\n",
            "\n",
            "Step load COMPLETED in 2 minutes and 7.61 seconds.\n",
            "Pipeline extract_pipeline_load1 load step completed in 2 minutes and 6.45 seconds\n",
            "1 load package(s) were loaded to destination duckdb and into dataset mydata_20250506125623\n",
            "The duckdb destination used duckdb:////content/extract_pipeline_load1.duckdb location to store data\n",
            "Load package 1746536183.2282429 is LOADED and contains no failed jobs\n"
          ]
        }
      ]
    },
    {
      "cell_type": "code",
      "source": [
        "# Okay lets try to increase the number of threads - Set the number of thread workers to 3\n",
        "os.environ['LOAD__WORKERS'] = '3'\n",
        "\n",
        "pipeline = dlt.pipeline(\n",
        "    pipeline_name=\"extract_pipeline_load2\",\n",
        "    destination=\"duckdb\",\n",
        "    dataset_name=\"mydata\",\n",
        "    dev_mode=True,\n",
        ")\n",
        "\n",
        "\n",
        "pipeline.extract(source())\n",
        "pipeline.normalize()\n",
        "pipeline.load()\n",
        "\n",
        "\n",
        "print(pipeline.last_trace)"
      ],
      "metadata": {
        "colab": {
          "base_uri": "https://localhost:8080/"
        },
        "id": "GBkxDlfBqzUb",
        "outputId": "4262af5f-dadd-47cf-d530-d922f0ceb31e"
      },
      "execution_count": null,
      "outputs": [
        {
          "output_type": "stream",
          "name": "stderr",
          "text": [
            "2025-05-06 13:04:26,424|[WARNING]|481|135345135198208|dlt|pool_runner.py|run_pool:99|Exiting runner due to signal 2\n"
          ]
        }
      ]
    },
    {
      "cell_type": "code",
      "source": [
        "exit()"
      ],
      "metadata": {
        "id": "ADAq2khIq7F2"
      },
      "execution_count": null,
      "outputs": []
    },
    {
      "cell_type": "markdown",
      "source": [
        "## **3. Optimization Example**\n",
        "we'll optimize a pipeline that loads data from seven different GitHub endpoints."
      ],
      "metadata": {
        "id": "Z5_nBxO2rP6Y"
      }
    },
    {
      "cell_type": "code",
      "source": [
        "# optimization 1 - yield pages/chunks of data instead of row\n",
        "\n",
        "import dlt\n",
        "import time\n",
        "import requests\n",
        "from google.colab import userdata\n",
        "\n",
        "\n",
        "github_token = userdata.get('SECRET_KEY')\n",
        "\n",
        "headers = {\n",
        "    \"Authorization\": f\"token {github_token}\"\n",
        "}\n",
        "\n",
        "def pagination(url):\n",
        "    while True:\n",
        "        response = requests.get(url, headers=headers)\n",
        "        time.sleep(0.1)               # Simulate delay\n",
        "        response.raise_for_status()\n",
        "        yield response.json()         # Here we're yielding pages\n",
        "\n",
        "        # Get next page\n",
        "        if \"next\" not in response.links:\n",
        "            break\n",
        "        url = response.links[\"next\"][\"url\"]\n",
        "\n",
        "\n",
        "@dlt.resource(table_name=\"issues\", write_disposition=\"merge\", primary_key=\"id\")\n",
        "def get_issues(\n",
        "    updated_at=dlt.sources.incremental(\"updated_at\", initial_value=\"1970-01-01T00:00:00Z\")\n",
        "):\n",
        "    url = (\n",
        "        f\"https://api.github.com/repos/dlt-hub/dlt/issues?since={updated_at.last_value}&per_page=100sort=updated\"\n",
        "    )\n",
        "    yield pagination(url)\n",
        "\n",
        "\n",
        "@dlt.resource(table_name=\"stargazers\", write_disposition=\"merge\", primary_key=\"id\")\n",
        "def get_stargazers():\n",
        "    url = (\n",
        "        \"https://api.github.com/repos/dlt-hub/dlt/stargazers?per_page=100\"\n",
        "    )\n",
        "    yield pagination(url)\n",
        "\n",
        "\n",
        "@dlt.resource(table_name=\"pull_requests\", write_disposition=\"merge\", primary_key=\"id\")\n",
        "def get_pulls(\n",
        "    updated_at=dlt.sources.incremental(\"updated_at\", initial_value=\"1970-01-01T00:00:00Z\")\n",
        "):\n",
        "    url = (\n",
        "        f\"https://api.github.com/repos/dlt-hub/dlt/pulls?since={updated_at.last_value}&per_page=100&sort=updated\"\n",
        "    )\n",
        "    yield pagination(url)\n",
        "\n",
        "@dlt.resource(table_name=\"commits\", write_disposition=\"merge\", primary_key=\"sha\")\n",
        "def get_commits():\n",
        "    url = (\n",
        "        \"https://api.github.com/repos/dlt-hub/dlt/commits?per_page=100\"\n",
        "    )\n",
        "    yield pagination(url)\n",
        "\n",
        "\n",
        "@dlt.resource(table_name=\"branches\", write_disposition=\"merge\", primary_key=\"name\")\n",
        "def get_branches():\n",
        "    url = (\n",
        "        \"https://api.github.com/repos/dlt-hub/dlt/branches?per_page=100\"\n",
        "    )\n",
        "    yield pagination(url)\n",
        "\n",
        "\n",
        "@dlt.resource(table_name=\"contributors\", write_disposition=\"merge\", primary_key=\"id\")\n",
        "def get_contributors():\n",
        "    url = (\n",
        "        \"https://api.github.com/repos/dlt-hub/dlt/contributors?per_page=100\"\n",
        "    )\n",
        "    yield pagination(url)\n",
        "\n",
        "\n",
        "@dlt.resource(table_name=\"labels\", write_disposition=\"merge\", primary_key=\"id\")\n",
        "def get_labels():\n",
        "    url = (\n",
        "        \"https://api.github.com/repos/dlt-hub/dlt/labels?per_page=100\"\n",
        "    )\n",
        "    yield pagination(url)"
      ],
      "metadata": {
        "id": "RCyIywgHrcHy"
      },
      "execution_count": 6,
      "outputs": []
    },
    {
      "cell_type": "code",
      "source": [
        "pipeline = dlt.pipeline(\n",
        "    pipeline_name=\"extract_pipeline_example1\",\n",
        "    destination=\"duckdb\",\n",
        "    dataset_name=\"mydata\",\n",
        "    dev_mode=True,\n",
        ")\n",
        "\n",
        "load_info = pipeline.run([get_issues, get_stargazers, get_pulls, get_branches, get_contributors, get_labels, get_commits])"
      ],
      "metadata": {
        "id": "5unF4Kyas2u3"
      },
      "execution_count": 7,
      "outputs": []
    },
    {
      "cell_type": "code",
      "source": [
        "import os\n",
        "\n",
        "os.environ['EXTRACT__WORKERS'] = '7'\n",
        "os.environ['NORMALIZE__WORKERS'] = '2'\n",
        "\n",
        "import time\n",
        "\n",
        "@dlt.resource(table_name=\"issues\", write_disposition=\"merge\", primary_key=\"id\", parallelized=True)\n",
        "def get_issues_2(\n",
        "    updated_at=dlt.sources.incremental(\"updated_at\", initial_value=\"1970-01-01T00:00:00Z\")\n",
        "):\n",
        "    url = (\n",
        "        f\"https://api.github.com/repos/dlt-hub/dlt/issues?since={updated_at.last_value}&per_page=100sort=updated\"\n",
        "    )\n",
        "    yield pagination(url)\n",
        "\n",
        "\n",
        "@dlt.resource(table_name=\"stargazers\", write_disposition=\"merge\", primary_key=\"id\", parallelized=True)\n",
        "def get_stargazers_2():\n",
        "    url = (\n",
        "        \"https://api.github.com/repos/dlt-hub/dlt/stargazers?per_page=100\"\n",
        "    )\n",
        "    yield pagination(url)\n",
        "\n",
        "\n",
        "@dlt.resource(table_name=\"pull_requests\", write_disposition=\"merge\", primary_key=\"id\", parallelized=True)\n",
        "def get_pulls_2(\n",
        "    updated_at=dlt.sources.incremental(\"updated_at\", initial_value=\"1970-01-01T00:00:00Z\")\n",
        "):\n",
        "    url = (\n",
        "        f\"https://api.github.com/repos/dlt-hub/dlt/pulls?since={updated_at.last_value}&per_page=100&sort=updated\"\n",
        "    )\n",
        "    yield pagination(url)\n",
        "\n",
        "\n",
        "@dlt.resource(table_name=\"commits\", write_disposition=\"merge\", primary_key=\"sha\", parallelized=True)\n",
        "def get_commits_2():\n",
        "    url = (\n",
        "        \"https://api.github.com/repos/dlt-hub/dlt/commits?per_page=100\"\n",
        "    )\n",
        "    yield pagination(url)\n",
        "\n",
        "\n",
        "@dlt.resource(table_name=\"branches\", write_disposition=\"merge\", primary_key=\"name\", parallelized=True)\n",
        "def get_branches_2():\n",
        "    url = (\n",
        "        \"https://api.github.com/repos/dlt-hub/dlt/branches?per_page=100\"\n",
        "    )\n",
        "    yield pagination(url)\n",
        "\n",
        "\n",
        "@dlt.resource(table_name=\"contributors\", write_disposition=\"merge\", primary_key=\"id\", parallelized=True)\n",
        "def get_contributors_2():\n",
        "    url = (\n",
        "        \"https://api.github.com/repos/dlt-hub/dlt/contributors?per_page=100\"\n",
        "    )\n",
        "    yield pagination(url)\n",
        "\n",
        "\n",
        "@dlt.resource(table_name=\"labels\", write_disposition=\"merge\", primary_key=\"id\", parallelized=True)\n",
        "def get_labels_2():\n",
        "    url = (\n",
        "        \"https://api.github.com/repos/dlt-hub/dlt/labels?per_page=100\"\n",
        "    )\n",
        "    yield pagination(url)\n",
        "\n",
        "\n",
        "@dlt.source\n",
        "def github_data():\n",
        "    return get_issues_2, get_stargazers_2, get_pulls_2, get_branches_2, get_contributors_2, get_labels_2, get_commits_2\n",
        "\n",
        "improved_p = dlt.pipeline(\n",
        "    \"test_pipeline_2\",\n",
        "    destination=\"duckdb\"\n",
        ")\n",
        "\n",
        "\n",
        "pipeline = dlt.pipeline(\n",
        "    pipeline_name=\"extract_pipeline_example2\",\n",
        "    destination=\"duckdb\",\n",
        "    dataset_name=\"mydata\",\n",
        "    dev_mode=True,\n",
        ")\n",
        "\n",
        "load_info = pipeline.run(github_data())\n",
        "print(pipeline.last_trace)"
      ],
      "metadata": {
        "colab": {
          "base_uri": "https://localhost:8080/"
        },
        "id": "V3wIn1zmvKBR",
        "outputId": "bfc102c4-609a-49e2-f847-167f4be6ac26"
      },
      "execution_count": 8,
      "outputs": [
        {
          "output_type": "stream",
          "name": "stdout",
          "text": [
            "Run started at 2025-05-06 13:20:03.989169+00:00 and COMPLETED in 1 minute and 9.86 seconds with 4 steps.\n",
            "Step extract COMPLETED in 56.59 seconds.\n",
            "\n",
            "Load package 1746537604.0458207 is EXTRACTED and NOT YET LOADED to the destination and contains no failed jobs\n",
            "\n",
            "Step normalize COMPLETED in 3.13 seconds.\n",
            "Normalized data for the following tables:\n",
            "- contributors: 102 row(s)\n",
            "- labels: 22 row(s)\n",
            "- pull_requests: 34 row(s)\n",
            "- pull_requests__assignees: 32 row(s)\n",
            "- pull_requests__requested_reviewers: 14 row(s)\n",
            "- pull_requests__labels: 16 row(s)\n",
            "- pull_requests__head__repo__topics: 240 row(s)\n",
            "- pull_requests__base__repo__topics: 340 row(s)\n",
            "- stargazers: 3558 row(s)\n",
            "- _dlt_pipeline_state: 1 row(s)\n",
            "- branches: 65 row(s)\n",
            "- commits: 3610 row(s)\n",
            "- commits__parents: 4052 row(s)\n",
            "\n",
            "Load package 1746537604.0458207 is NORMALIZED and NOT YET LOADED to the destination and contains no failed jobs\n",
            "\n",
            "Step load COMPLETED in 10.12 seconds.\n",
            "Pipeline extract_pipeline_example2 load step completed in 10.08 seconds\n",
            "1 load package(s) were loaded to destination duckdb and into dataset mydata_20250506012003\n",
            "The duckdb destination used duckdb:////content/extract_pipeline_example2.duckdb location to store data\n",
            "Load package 1746537604.0458207 is LOADED and contains no failed jobs\n",
            "\n",
            "Step run COMPLETED in 1 minute and 9.86 seconds.\n",
            "Pipeline extract_pipeline_example2 load step completed in 10.08 seconds\n",
            "1 load package(s) were loaded to destination duckdb and into dataset mydata_20250506012003\n",
            "The duckdb destination used duckdb:////content/extract_pipeline_example2.duckdb location to store data\n",
            "Load package 1746537604.0458207 is LOADED and contains no failed jobs\n"
          ]
        }
      ]
    },
    {
      "cell_type": "code",
      "source": [],
      "metadata": {
        "id": "wii5HCrOwOJU"
      },
      "execution_count": null,
      "outputs": []
    }
  ]
}