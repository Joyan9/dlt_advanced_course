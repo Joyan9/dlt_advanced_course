{
  "nbformat": 4,
  "nbformat_minor": 0,
  "metadata": {
    "colab": {
      "provenance": [],
      "authorship_tag": "ABX9TyN84Z2Ed6KdpC2VIUU05asO"
    },
    "kernelspec": {
      "name": "python3",
      "display_name": "Python 3"
    },
    "language_info": {
      "name": "python"
    }
  },
  "cells": [
    {
      "cell_type": "markdown",
      "source": [
        "# **Building custom sources with SQL Databases**\n",
        "\n",
        "We will be using dlt's `sql_database` source to build custom SQL sources"
      ],
      "metadata": {
        "id": "0XJdlxdWEbRe"
      }
    },
    {
      "cell_type": "code",
      "source": [
        "%%capture\n",
        "!pip install pymysql duckdb dlt"
      ],
      "metadata": {
        "id": "rHtpffhcEX_B"
      },
      "execution_count": 1,
      "outputs": []
    },
    {
      "cell_type": "markdown",
      "source": [
        "`rest_api_source` -> Higher level, provides declarative way to configure sources\n",
        "\n",
        "RestAPI Client -> Lower level, provides more granular control"
      ],
      "metadata": {
        "id": "VqT9bniBG_Kj"
      }
    },
    {
      "cell_type": "markdown",
      "source": [
        "## 1. Load Data From SQL DB\n",
        "\n",
        "Fetch data from an open MySQL database and load it to DuckDB\n",
        "\n",
        "```\n",
        "# simply calling the sql_database() will load all tables from the DB\n",
        "sql_database()\n",
        "\n",
        "# use table_names arguement to narrow down tables\n",
        "sql_database(table_names=[\"table1\", \"table2\"])\n",
        "```"
      ],
      "metadata": {
        "id": "fwtp9Z3eEP4g"
      }
    },
    {
      "cell_type": "code",
      "source": [
        "import dlt\n",
        "from dlt.sources.sql_database import sql_database\n",
        "\n",
        "source = sql_database(\n",
        "    \"mysql+pymysql://rfamro@mysql-rfam-public.ebi.ac.uk:4497/Rfam\",\n",
        "    table_names=[\"family\"]\n",
        ")\n",
        "\n",
        "pipeline = dlt.pipeline(\n",
        "    pipeline_name=\"sql_database_example\",\n",
        "    destination=\"duckdb\",\n",
        "    dataset_name=\"sql_data\",\n",
        "    dev_mode=True,\n",
        ")\n",
        "\n",
        "load_info = pipeline.run(source)\n",
        "print(load_info)"
      ],
      "metadata": {
        "colab": {
          "base_uri": "https://localhost:8080/"
        },
        "id": "Z3VN-8UZEVTw",
        "outputId": "bfdbe585-690f-44c5-bd67-e6739f19984a"
      },
      "execution_count": 2,
      "outputs": [
        {
          "output_type": "stream",
          "name": "stdout",
          "text": [
            "Pipeline sql_database_example load step completed in 2.68 seconds\n",
            "1 load package(s) were loaded to destination duckdb and into dataset sql_data_20250422035424\n",
            "The duckdb destination used duckdb:////content/sql_database_example.duckdb location to store data\n",
            "Load package 1745337264.7823727 is LOADED and contains no failed jobs\n"
          ]
        }
      ]
    },
    {
      "cell_type": "markdown",
      "source": [
        "### 1.1. Using the `query_adapter_callback` Argument\n",
        "\n",
        "Callable to override the SELECT query used to fetch data from the table."
      ],
      "metadata": {
        "id": "C5lD40ReFyjG"
      }
    },
    {
      "cell_type": "code",
      "source": [
        "from sqlalchemy import text\n",
        "\n",
        "# instead of doing a SELECT * FROM table, we are specifying here a filter condition\n",
        "def query_adapter_callback(query, table, incremental=None, engine=None):\n",
        "    return text(f\"SELECT * FROM {table.fullname} WHERE rfam_id like '%bacteria%'\")\n",
        "\n",
        "\n",
        "# set the credendtials as ENV var to avoid declaring it again\n",
        "import os\n",
        "os.environ[\"SOURCES__SQL_DATABASE__CREDENTIALS\"] = \"mysql+pymysql://rfamro@mysql-rfam-public.ebi.ac.uk:4497/Rfam\"\n",
        "\n",
        "\n",
        "filtered_resource = sql_database(\n",
        "    query_adapter_callback=query_adapter_callback,\n",
        "    table_names=[\"family\"]\n",
        ")\n",
        "\n",
        "info = pipeline.run(filtered_resource, table_name=\"bacterias\")\n",
        "print(info)"
      ],
      "metadata": {
        "colab": {
          "base_uri": "https://localhost:8080/"
        },
        "id": "uZ5t6EfkFq7j",
        "outputId": "740240c0-dd10-4cf6-a4f0-c68cec164ac2"
      },
      "execution_count": 12,
      "outputs": [
        {
          "output_type": "stream",
          "name": "stdout",
          "text": [
            "Pipeline sql_database_example load step completed in 0.20 seconds\n",
            "1 load package(s) were loaded to destination duckdb and into dataset sql_data_20250422035424\n",
            "The duckdb destination used duckdb:////content/sql_database_example.duckdb location to store data\n",
            "Load package 1745338568.5666919 is LOADED and contains no failed jobs\n"
          ]
        }
      ]
    },
    {
      "cell_type": "code",
      "source": [
        "print(\"Number of Rows: \", len(pipeline.dataset(dataset_type='default').bacterias.df()))"
      ],
      "metadata": {
        "colab": {
          "base_uri": "https://localhost:8080/"
        },
        "id": "UbOBnlFSP4hU",
        "outputId": "ce1a4576-6482-42ae-e4cd-6afc5abb5d09"
      },
      "execution_count": 16,
      "outputs": [
        {
          "output_type": "stream",
          "name": "stdout",
          "text": [
            "Number of Rows:  46\n"
          ]
        }
      ]
    },
    {
      "cell_type": "markdown",
      "source": [
        "### 1.2. Using the `table_adapter_callback` Argument\n",
        "\n",
        "It is used to modify the default schema of the table, adding columns or modifying the list of columns selected"
      ],
      "metadata": {
        "id": "SdZse3ZcHemZ"
      }
    },
    {
      "cell_type": "code",
      "source": [
        "# example 1 - adding a max_timestamp column to the tables for incremental loading\n",
        "\n",
        "import sqlalchemy as sa\n",
        "from sqlalchemy.sql import sqltypes\n",
        "\n",
        "def add_max_timestamp(table):\n",
        "  max_ts = sa.func.greatest(table.c.created, table.c.updated).label(\"max_timestamp\")\n",
        "  subq = sa.select(*table.c, max_ts).subquery()\n",
        "  return subq\n",
        "\n",
        "\n",
        "import dlt\n",
        "from dlt.sources.sql_database import sql_table  # a dlt resource that loads a single table from the SQL database\n",
        "\n",
        "table = sql_table(\n",
        "    table=\"family\",\n",
        "    table_adapter_callback=add_max_timestamp,\n",
        "    incremental=dlt.sources.incremental(\"max_timestamp\")\n",
        ")\n",
        "\n",
        "info = pipeline.run(table, table_name = \"family_with_max_ts\")\n",
        "print(info)"
      ],
      "metadata": {
        "colab": {
          "base_uri": "https://localhost:8080/"
        },
        "id": "LcxZRNukG0Qj",
        "outputId": "0b772036-f796-4eed-88ed-dc57d114707e"
      },
      "execution_count": 17,
      "outputs": [
        {
          "output_type": "stream",
          "name": "stderr",
          "text": [
            "2025-04-22 16:17:16,180|[WARNING]|219|136695180943360|dlt|schema_types.py|sqla_col_to_column_schema:149|A column with name max_timestamp contains unknown data type NULL which cannot be mapped to `dlt` data type. When using sqlalchemy backend such data will be passed to the normalizer. In case of `pyarrow` and `pandas` backend, data types are detected from numpy ndarrays. In case of other backends, the behavior is backend-specific.\n",
            "2025-04-22 16:17:16,243|[WARNING]|219|136695180943360|dlt|schema_types.py|sqla_col_to_column_schema:149|A column with name max_timestamp contains unknown data type NULL which cannot be mapped to `dlt` data type. When using sqlalchemy backend such data will be passed to the normalizer. In case of `pyarrow` and `pandas` backend, data types are detected from numpy ndarrays. In case of other backends, the behavior is backend-specific.\n"
          ]
        },
        {
          "output_type": "stream",
          "name": "stdout",
          "text": [
            "Pipeline sql_database_example load step completed in 0.17 seconds\n",
            "1 load package(s) were loaded to destination duckdb and into dataset sql_data_20250422035424\n",
            "The duckdb destination used duckdb:////content/sql_database_example.duckdb location to store data\n",
            "Load package 1745338636.220226 is LOADED and contains no failed jobs\n"
          ]
        }
      ]
    },
    {
      "cell_type": "code",
      "source": [
        "pipeline.dataset().family_with_max_ts.df().head()"
      ],
      "metadata": {
        "colab": {
          "base_uri": "https://localhost:8080/",
          "height": 730
        },
        "id": "2TCGSRF2SM-8",
        "outputId": "380ba2d1-9f59-48f2-fc6b-b7f802f2da5f"
      },
      "execution_count": 18,
      "outputs": [
        {
          "output_type": "execute_result",
          "data": {
            "text/plain": [
              "  rfam_acc    rfam_id  ...        _dlt_load_id         _dlt_id\n",
              "0  RF00001    5S_rRNA  ...  1745338539.3013937  Ideif+qwKqtoRA\n",
              "1  RF00002  5_8S_rRNA  ...  1745338539.3013937  kedH1doK/7qTdg\n",
              "2  RF00003         U1  ...  1745338539.3013937  VuBdUZhAkL2b0A\n",
              "3  RF00004         U2  ...  1745338539.3013937  7J0FJuR+F+zzIQ\n",
              "4  RF00005       tRNA  ...  1745338539.3013937  w6vSExTztGeoCg\n",
              "\n",
              "[5 rows x 38 columns]"
            ],
            "text/html": [
              "\n",
              "  <div id=\"df-5f17a6e2-1f04-4a97-8d8a-e63b2579fa97\" class=\"colab-df-container\">\n",
              "    <div>\n",
              "<style scoped>\n",
              "    .dataframe tbody tr th:only-of-type {\n",
              "        vertical-align: middle;\n",
              "    }\n",
              "\n",
              "    .dataframe tbody tr th {\n",
              "        vertical-align: top;\n",
              "    }\n",
              "\n",
              "    .dataframe thead th {\n",
              "        text-align: right;\n",
              "    }\n",
              "</style>\n",
              "<table border=\"1\" class=\"dataframe\">\n",
              "  <thead>\n",
              "    <tr style=\"text-align: right;\">\n",
              "      <th></th>\n",
              "      <th>rfam_acc</th>\n",
              "      <th>rfam_id</th>\n",
              "      <th>auto_wiki</th>\n",
              "      <th>description</th>\n",
              "      <th>author</th>\n",
              "      <th>seed_source</th>\n",
              "      <th>gathering_cutoff</th>\n",
              "      <th>trusted_cutoff</th>\n",
              "      <th>noise_cutoff</th>\n",
              "      <th>comment</th>\n",
              "      <th>previous_id</th>\n",
              "      <th>cmbuild</th>\n",
              "      <th>cmcalibrate</th>\n",
              "      <th>cmsearch</th>\n",
              "      <th>num_seed</th>\n",
              "      <th>num_full</th>\n",
              "      <th>num_genome_seq</th>\n",
              "      <th>num_refseq</th>\n",
              "      <th>type</th>\n",
              "      <th>structure_source</th>\n",
              "      <th>number_of_species</th>\n",
              "      <th>number_3d_structures</th>\n",
              "      <th>num_pseudonokts</th>\n",
              "      <th>tax_seed</th>\n",
              "      <th>ecmli_lambda</th>\n",
              "      <th>ecmli_mu</th>\n",
              "      <th>ecmli_cal_db</th>\n",
              "      <th>ecmli_cal_hits</th>\n",
              "      <th>maxl</th>\n",
              "      <th>clen</th>\n",
              "      <th>match_pair_node</th>\n",
              "      <th>hmm_tau</th>\n",
              "      <th>hmm_lambda</th>\n",
              "      <th>created</th>\n",
              "      <th>updated</th>\n",
              "      <th>max_timestamp</th>\n",
              "      <th>_dlt_load_id</th>\n",
              "      <th>_dlt_id</th>\n",
              "    </tr>\n",
              "  </thead>\n",
              "  <tbody>\n",
              "    <tr>\n",
              "      <th>0</th>\n",
              "      <td>RF00001</td>\n",
              "      <td>5S_rRNA</td>\n",
              "      <td>1302</td>\n",
              "      <td>5S ribosomal RNA</td>\n",
              "      <td>Griffiths-Jones SR, Mifsud W, Gardner PP</td>\n",
              "      <td>Szymanski et al, 5S ribosomal database, PMID:1...</td>\n",
              "      <td>38.0</td>\n",
              "      <td>38.0</td>\n",
              "      <td>37.9</td>\n",
              "      <td>5S ribosomal RNA (5S rRNA) is a component of t...</td>\n",
              "      <td>None</td>\n",
              "      <td>cmbuild -F CM SEED</td>\n",
              "      <td>cmcalibrate --mpi CM</td>\n",
              "      <td>cmsearch --cpu 4 --verbose --nohmmonly -T 24.9...</td>\n",
              "      <td>712</td>\n",
              "      <td>594154</td>\n",
              "      <td>0</td>\n",
              "      <td>0</td>\n",
              "      <td>Gene; rRNA;</td>\n",
              "      <td>Published; PMID:11283358</td>\n",
              "      <td>12253</td>\n",
              "      <td>0</td>\n",
              "      <td>&lt;NA&gt;</td>\n",
              "      <td></td>\n",
              "      <td>0.60889</td>\n",
              "      <td>-5.17319</td>\n",
              "      <td>1600000</td>\n",
              "      <td>225645</td>\n",
              "      <td>196</td>\n",
              "      <td>120</td>\n",
              "      <td>1</td>\n",
              "      <td>-3.7679</td>\n",
              "      <td>0.71820</td>\n",
              "      <td>2013-10-03 20:41:44+00:00</td>\n",
              "      <td>2024-09-09 21:15:12+00:00</td>\n",
              "      <td>2024-09-09 21:15:12+00:00</td>\n",
              "      <td>1745338539.3013937</td>\n",
              "      <td>Ideif+qwKqtoRA</td>\n",
              "    </tr>\n",
              "    <tr>\n",
              "      <th>1</th>\n",
              "      <td>RF00002</td>\n",
              "      <td>5_8S_rRNA</td>\n",
              "      <td>1303</td>\n",
              "      <td>5.8S ribosomal RNA</td>\n",
              "      <td>Griffiths-Jones SR, Mifsud W</td>\n",
              "      <td>Wuyts et al, European LSU rRNA database, PMID:...</td>\n",
              "      <td>42.0</td>\n",
              "      <td>42.0</td>\n",
              "      <td>41.9</td>\n",
              "      <td>5.8S ribosomal RNA (5.8S rRNA) is a component ...</td>\n",
              "      <td>None</td>\n",
              "      <td>cmbuild -F CM SEED</td>\n",
              "      <td>cmcalibrate --mpi CM</td>\n",
              "      <td>cmsearch --cpu 4 --verbose --nohmmonly -T 19.6...</td>\n",
              "      <td>61</td>\n",
              "      <td>16501</td>\n",
              "      <td>0</td>\n",
              "      <td>0</td>\n",
              "      <td>Gene; rRNA;</td>\n",
              "      <td>Published; PMID:11125083</td>\n",
              "      <td>1591</td>\n",
              "      <td>0</td>\n",
              "      <td>&lt;NA&gt;</td>\n",
              "      <td></td>\n",
              "      <td>0.66150</td>\n",
              "      <td>-9.18781</td>\n",
              "      <td>1600000</td>\n",
              "      <td>407997</td>\n",
              "      <td>265</td>\n",
              "      <td>154</td>\n",
              "      <td>1</td>\n",
              "      <td>-3.4977</td>\n",
              "      <td>0.71788</td>\n",
              "      <td>2013-10-03 20:47:00+00:00</td>\n",
              "      <td>2024-09-10 04:51:11+00:00</td>\n",
              "      <td>2024-09-10 04:51:11+00:00</td>\n",
              "      <td>1745338539.3013937</td>\n",
              "      <td>kedH1doK/7qTdg</td>\n",
              "    </tr>\n",
              "    <tr>\n",
              "      <th>2</th>\n",
              "      <td>RF00003</td>\n",
              "      <td>U1</td>\n",
              "      <td>1304</td>\n",
              "      <td>U1 spliceosomal RNA</td>\n",
              "      <td>Griffiths-Jones SR, Mifsud W, Moxon SJ, Ontive...</td>\n",
              "      <td>Zwieb C, The uRNA database, PMID:9016512</td>\n",
              "      <td>66.0</td>\n",
              "      <td>66.0</td>\n",
              "      <td>65.9</td>\n",
              "      <td>U1 is a small nuclear RNA (snRNA) component of...</td>\n",
              "      <td>None</td>\n",
              "      <td>cmbuild -F CM SEED</td>\n",
              "      <td>cmcalibrate --mpi CM</td>\n",
              "      <td>cmsearch --cpu 4 --verbose --nohmmonly -T 25.0...</td>\n",
              "      <td>100</td>\n",
              "      <td>41297</td>\n",
              "      <td>0</td>\n",
              "      <td>0</td>\n",
              "      <td>Gene; snRNA; splicing;</td>\n",
              "      <td>Published; PMID:2405391</td>\n",
              "      <td>1539</td>\n",
              "      <td>0</td>\n",
              "      <td>&lt;NA&gt;</td>\n",
              "      <td></td>\n",
              "      <td>0.66474</td>\n",
              "      <td>-8.65259</td>\n",
              "      <td>1600000</td>\n",
              "      <td>410919</td>\n",
              "      <td>262</td>\n",
              "      <td>166</td>\n",
              "      <td>1</td>\n",
              "      <td>-3.7311</td>\n",
              "      <td>0.71618</td>\n",
              "      <td>2013-10-03 20:57:11+00:00</td>\n",
              "      <td>2024-09-09 21:15:12+00:00</td>\n",
              "      <td>2024-09-09 21:15:12+00:00</td>\n",
              "      <td>1745338539.3013937</td>\n",
              "      <td>VuBdUZhAkL2b0A</td>\n",
              "    </tr>\n",
              "    <tr>\n",
              "      <th>3</th>\n",
              "      <td>RF00004</td>\n",
              "      <td>U2</td>\n",
              "      <td>1305</td>\n",
              "      <td>U2 spliceosomal RNA</td>\n",
              "      <td>Griffiths-Jones SR, Mifsud W, Gardner PP</td>\n",
              "      <td>The uRNA database, PMID:9016512; Griffiths-Jon...</td>\n",
              "      <td>46.0</td>\n",
              "      <td>46.0</td>\n",
              "      <td>45.9</td>\n",
              "      <td>U2 is a small nuclear RNA (snRNA) component of...</td>\n",
              "      <td>None</td>\n",
              "      <td>cmbuild -F CM SEED</td>\n",
              "      <td>cmcalibrate --mpi CM</td>\n",
              "      <td>cmsearch --cpu 4 --verbose --nohmmonly -T 27.0...</td>\n",
              "      <td>208</td>\n",
              "      <td>71512</td>\n",
              "      <td>0</td>\n",
              "      <td>0</td>\n",
              "      <td>Gene; snRNA; splicing;</td>\n",
              "      <td>Published; PMID:2339054; Griffiths-Jones SR</td>\n",
              "      <td>2642</td>\n",
              "      <td>0</td>\n",
              "      <td>&lt;NA&gt;</td>\n",
              "      <td></td>\n",
              "      <td>0.55201</td>\n",
              "      <td>-9.92571</td>\n",
              "      <td>1600000</td>\n",
              "      <td>404187</td>\n",
              "      <td>292</td>\n",
              "      <td>192</td>\n",
              "      <td>1</td>\n",
              "      <td>-3.4862</td>\n",
              "      <td>0.71304</td>\n",
              "      <td>2013-10-03 20:58:30+00:00</td>\n",
              "      <td>2024-09-10 04:51:11+00:00</td>\n",
              "      <td>2024-09-10 04:51:11+00:00</td>\n",
              "      <td>1745338539.3013937</td>\n",
              "      <td>7J0FJuR+F+zzIQ</td>\n",
              "    </tr>\n",
              "    <tr>\n",
              "      <th>4</th>\n",
              "      <td>RF00005</td>\n",
              "      <td>tRNA</td>\n",
              "      <td>1306</td>\n",
              "      <td>tRNA</td>\n",
              "      <td>Eddy SR, Griffiths-Jones SR, Mifsud W</td>\n",
              "      <td>Eddy SR</td>\n",
              "      <td>29.0</td>\n",
              "      <td>29.0</td>\n",
              "      <td>28.9</td>\n",
              "      <td>Transfer RNA (tRNA) molecules are approximatel...</td>\n",
              "      <td>None</td>\n",
              "      <td>cmbuild -F CM SEED</td>\n",
              "      <td>cmcalibrate --mpi CM</td>\n",
              "      <td>cmsearch --cpu 4 --verbose --nohmmonly -T 22.0...</td>\n",
              "      <td>954</td>\n",
              "      <td>5335975</td>\n",
              "      <td>0</td>\n",
              "      <td>0</td>\n",
              "      <td>Gene; tRNA;</td>\n",
              "      <td>Published; PMID:8256282</td>\n",
              "      <td>14413</td>\n",
              "      <td>0</td>\n",
              "      <td>&lt;NA&gt;</td>\n",
              "      <td></td>\n",
              "      <td>0.63376</td>\n",
              "      <td>-4.41829</td>\n",
              "      <td>1600000</td>\n",
              "      <td>281040</td>\n",
              "      <td>217</td>\n",
              "      <td>71</td>\n",
              "      <td>1</td>\n",
              "      <td>-2.6284</td>\n",
              "      <td>0.73562</td>\n",
              "      <td>2013-10-03 21:00:26+00:00</td>\n",
              "      <td>2024-09-10 04:51:11+00:00</td>\n",
              "      <td>2024-09-10 04:51:11+00:00</td>\n",
              "      <td>1745338539.3013937</td>\n",
              "      <td>w6vSExTztGeoCg</td>\n",
              "    </tr>\n",
              "  </tbody>\n",
              "</table>\n",
              "</div>\n",
              "    <div class=\"colab-df-buttons\">\n",
              "\n",
              "  <div class=\"colab-df-container\">\n",
              "    <button class=\"colab-df-convert\" onclick=\"convertToInteractive('df-5f17a6e2-1f04-4a97-8d8a-e63b2579fa97')\"\n",
              "            title=\"Convert this dataframe to an interactive table.\"\n",
              "            style=\"display:none;\">\n",
              "\n",
              "  <svg xmlns=\"http://www.w3.org/2000/svg\" height=\"24px\" viewBox=\"0 -960 960 960\">\n",
              "    <path d=\"M120-120v-720h720v720H120Zm60-500h600v-160H180v160Zm220 220h160v-160H400v160Zm0 220h160v-160H400v160ZM180-400h160v-160H180v160Zm440 0h160v-160H620v160ZM180-180h160v-160H180v160Zm440 0h160v-160H620v160Z\"/>\n",
              "  </svg>\n",
              "    </button>\n",
              "\n",
              "  <style>\n",
              "    .colab-df-container {\n",
              "      display:flex;\n",
              "      gap: 12px;\n",
              "    }\n",
              "\n",
              "    .colab-df-convert {\n",
              "      background-color: #E8F0FE;\n",
              "      border: none;\n",
              "      border-radius: 50%;\n",
              "      cursor: pointer;\n",
              "      display: none;\n",
              "      fill: #1967D2;\n",
              "      height: 32px;\n",
              "      padding: 0 0 0 0;\n",
              "      width: 32px;\n",
              "    }\n",
              "\n",
              "    .colab-df-convert:hover {\n",
              "      background-color: #E2EBFA;\n",
              "      box-shadow: 0px 1px 2px rgba(60, 64, 67, 0.3), 0px 1px 3px 1px rgba(60, 64, 67, 0.15);\n",
              "      fill: #174EA6;\n",
              "    }\n",
              "\n",
              "    .colab-df-buttons div {\n",
              "      margin-bottom: 4px;\n",
              "    }\n",
              "\n",
              "    [theme=dark] .colab-df-convert {\n",
              "      background-color: #3B4455;\n",
              "      fill: #D2E3FC;\n",
              "    }\n",
              "\n",
              "    [theme=dark] .colab-df-convert:hover {\n",
              "      background-color: #434B5C;\n",
              "      box-shadow: 0px 1px 3px 1px rgba(0, 0, 0, 0.15);\n",
              "      filter: drop-shadow(0px 1px 2px rgba(0, 0, 0, 0.3));\n",
              "      fill: #FFFFFF;\n",
              "    }\n",
              "  </style>\n",
              "\n",
              "    <script>\n",
              "      const buttonEl =\n",
              "        document.querySelector('#df-5f17a6e2-1f04-4a97-8d8a-e63b2579fa97 button.colab-df-convert');\n",
              "      buttonEl.style.display =\n",
              "        google.colab.kernel.accessAllowed ? 'block' : 'none';\n",
              "\n",
              "      async function convertToInteractive(key) {\n",
              "        const element = document.querySelector('#df-5f17a6e2-1f04-4a97-8d8a-e63b2579fa97');\n",
              "        const dataTable =\n",
              "          await google.colab.kernel.invokeFunction('convertToInteractive',\n",
              "                                                    [key], {});\n",
              "        if (!dataTable) return;\n",
              "\n",
              "        const docLinkHtml = 'Like what you see? Visit the ' +\n",
              "          '<a target=\"_blank\" href=https://colab.research.google.com/notebooks/data_table.ipynb>data table notebook</a>'\n",
              "          + ' to learn more about interactive tables.';\n",
              "        element.innerHTML = '';\n",
              "        dataTable['output_type'] = 'display_data';\n",
              "        await google.colab.output.renderOutput(dataTable, element);\n",
              "        const docLink = document.createElement('div');\n",
              "        docLink.innerHTML = docLinkHtml;\n",
              "        element.appendChild(docLink);\n",
              "      }\n",
              "    </script>\n",
              "  </div>\n",
              "\n",
              "\n",
              "<div id=\"df-b27e5120-e2ca-44ba-8d64-c75a224f226f\">\n",
              "  <button class=\"colab-df-quickchart\" onclick=\"quickchart('df-b27e5120-e2ca-44ba-8d64-c75a224f226f')\"\n",
              "            title=\"Suggest charts\"\n",
              "            style=\"display:none;\">\n",
              "\n",
              "<svg xmlns=\"http://www.w3.org/2000/svg\" height=\"24px\"viewBox=\"0 0 24 24\"\n",
              "     width=\"24px\">\n",
              "    <g>\n",
              "        <path d=\"M19 3H5c-1.1 0-2 .9-2 2v14c0 1.1.9 2 2 2h14c1.1 0 2-.9 2-2V5c0-1.1-.9-2-2-2zM9 17H7v-7h2v7zm4 0h-2V7h2v10zm4 0h-2v-4h2v4z\"/>\n",
              "    </g>\n",
              "</svg>\n",
              "  </button>\n",
              "\n",
              "<style>\n",
              "  .colab-df-quickchart {\n",
              "      --bg-color: #E8F0FE;\n",
              "      --fill-color: #1967D2;\n",
              "      --hover-bg-color: #E2EBFA;\n",
              "      --hover-fill-color: #174EA6;\n",
              "      --disabled-fill-color: #AAA;\n",
              "      --disabled-bg-color: #DDD;\n",
              "  }\n",
              "\n",
              "  [theme=dark] .colab-df-quickchart {\n",
              "      --bg-color: #3B4455;\n",
              "      --fill-color: #D2E3FC;\n",
              "      --hover-bg-color: #434B5C;\n",
              "      --hover-fill-color: #FFFFFF;\n",
              "      --disabled-bg-color: #3B4455;\n",
              "      --disabled-fill-color: #666;\n",
              "  }\n",
              "\n",
              "  .colab-df-quickchart {\n",
              "    background-color: var(--bg-color);\n",
              "    border: none;\n",
              "    border-radius: 50%;\n",
              "    cursor: pointer;\n",
              "    display: none;\n",
              "    fill: var(--fill-color);\n",
              "    height: 32px;\n",
              "    padding: 0;\n",
              "    width: 32px;\n",
              "  }\n",
              "\n",
              "  .colab-df-quickchart:hover {\n",
              "    background-color: var(--hover-bg-color);\n",
              "    box-shadow: 0 1px 2px rgba(60, 64, 67, 0.3), 0 1px 3px 1px rgba(60, 64, 67, 0.15);\n",
              "    fill: var(--button-hover-fill-color);\n",
              "  }\n",
              "\n",
              "  .colab-df-quickchart-complete:disabled,\n",
              "  .colab-df-quickchart-complete:disabled:hover {\n",
              "    background-color: var(--disabled-bg-color);\n",
              "    fill: var(--disabled-fill-color);\n",
              "    box-shadow: none;\n",
              "  }\n",
              "\n",
              "  .colab-df-spinner {\n",
              "    border: 2px solid var(--fill-color);\n",
              "    border-color: transparent;\n",
              "    border-bottom-color: var(--fill-color);\n",
              "    animation:\n",
              "      spin 1s steps(1) infinite;\n",
              "  }\n",
              "\n",
              "  @keyframes spin {\n",
              "    0% {\n",
              "      border-color: transparent;\n",
              "      border-bottom-color: var(--fill-color);\n",
              "      border-left-color: var(--fill-color);\n",
              "    }\n",
              "    20% {\n",
              "      border-color: transparent;\n",
              "      border-left-color: var(--fill-color);\n",
              "      border-top-color: var(--fill-color);\n",
              "    }\n",
              "    30% {\n",
              "      border-color: transparent;\n",
              "      border-left-color: var(--fill-color);\n",
              "      border-top-color: var(--fill-color);\n",
              "      border-right-color: var(--fill-color);\n",
              "    }\n",
              "    40% {\n",
              "      border-color: transparent;\n",
              "      border-right-color: var(--fill-color);\n",
              "      border-top-color: var(--fill-color);\n",
              "    }\n",
              "    60% {\n",
              "      border-color: transparent;\n",
              "      border-right-color: var(--fill-color);\n",
              "    }\n",
              "    80% {\n",
              "      border-color: transparent;\n",
              "      border-right-color: var(--fill-color);\n",
              "      border-bottom-color: var(--fill-color);\n",
              "    }\n",
              "    90% {\n",
              "      border-color: transparent;\n",
              "      border-bottom-color: var(--fill-color);\n",
              "    }\n",
              "  }\n",
              "</style>\n",
              "\n",
              "  <script>\n",
              "    async function quickchart(key) {\n",
              "      const quickchartButtonEl =\n",
              "        document.querySelector('#' + key + ' button');\n",
              "      quickchartButtonEl.disabled = true;  // To prevent multiple clicks.\n",
              "      quickchartButtonEl.classList.add('colab-df-spinner');\n",
              "      try {\n",
              "        const charts = await google.colab.kernel.invokeFunction(\n",
              "            'suggestCharts', [key], {});\n",
              "      } catch (error) {\n",
              "        console.error('Error during call to suggestCharts:', error);\n",
              "      }\n",
              "      quickchartButtonEl.classList.remove('colab-df-spinner');\n",
              "      quickchartButtonEl.classList.add('colab-df-quickchart-complete');\n",
              "    }\n",
              "    (() => {\n",
              "      let quickchartButtonEl =\n",
              "        document.querySelector('#df-b27e5120-e2ca-44ba-8d64-c75a224f226f button');\n",
              "      quickchartButtonEl.style.display =\n",
              "        google.colab.kernel.accessAllowed ? 'block' : 'none';\n",
              "    })();\n",
              "  </script>\n",
              "</div>\n",
              "\n",
              "    </div>\n",
              "  </div>\n"
            ],
            "application/vnd.google.colaboratory.intrinsic+json": {
              "type": "dataframe"
            }
          },
          "metadata": {},
          "execution_count": 18
        }
      ]
    },
    {
      "cell_type": "markdown",
      "source": [
        "### 1.3. Using the `type_adapter_callback` Argument\n",
        "\n",
        "When the default types don’t match what you want in the destination, you can remap them.\n"
      ],
      "metadata": {
        "id": "HscagHc1Jnvk"
      }
    },
    {
      "cell_type": "code",
      "source": [
        "# check the existing schema\n",
        "\n",
        "schema = pipeline.default_schema.to_dict()[\"tables\"][\"family\"][\"columns\"]\n",
        "\n",
        "for col in schema:\n",
        "  print(schema[col][\"name\"], \" : \", schema[col][\"data_type\"])"
      ],
      "metadata": {
        "colab": {
          "base_uri": "https://localhost:8080/"
        },
        "id": "D57vXHCFJQLj",
        "outputId": "157e9feb-5f06-4f0d-e471-d004ac3dfbd5"
      },
      "execution_count": 22,
      "outputs": [
        {
          "output_type": "stream",
          "name": "stdout",
          "text": [
            "rfam_acc  :  text\n",
            "rfam_id  :  text\n",
            "auto_wiki  :  bigint\n",
            "description  :  text\n",
            "author  :  text\n",
            "seed_source  :  text\n",
            "gathering_cutoff  :  decimal\n",
            "trusted_cutoff  :  decimal\n",
            "noise_cutoff  :  decimal\n",
            "comment  :  text\n",
            "previous_id  :  text\n",
            "cmbuild  :  text\n",
            "cmcalibrate  :  text\n",
            "cmsearch  :  text\n",
            "num_seed  :  bigint\n",
            "num_full  :  bigint\n",
            "num_genome_seq  :  bigint\n",
            "num_refseq  :  bigint\n",
            "type  :  text\n",
            "structure_source  :  text\n",
            "number_of_species  :  bigint\n",
            "number_3d_structures  :  bigint\n",
            "num_pseudonokts  :  bigint\n",
            "tax_seed  :  text\n",
            "ecmli_lambda  :  decimal\n",
            "ecmli_mu  :  decimal\n",
            "ecmli_cal_db  :  bigint\n",
            "ecmli_cal_hits  :  bigint\n",
            "maxl  :  bigint\n",
            "clen  :  bigint\n",
            "match_pair_node  :  bigint\n",
            "hmm_tau  :  decimal\n",
            "hmm_lambda  :  decimal\n",
            "created  :  timestamp\n",
            "updated  :  timestamp\n",
            "_dlt_load_id  :  text\n",
            "_dlt_id  :  text\n"
          ]
        }
      ]
    },
    {
      "cell_type": "markdown",
      "source": [
        "*Lets change columns from decimal to double, as it provides a greater numeric range which is better for scientific values*"
      ],
      "metadata": {
        "id": "juITgj7GVzmA"
      }
    },
    {
      "cell_type": "code",
      "source": [
        "import sqlalchemy as sa\n",
        "\n",
        "def type_adapter_callback(sql_type):\n",
        "  # if it is an instance of Numeric then return double type\n",
        "  if isinstance(sql_type, sa.Numeric):\n",
        "    return sa.Double\n",
        "  return sql_type\n",
        "\n",
        "new_source = sql_database(\n",
        "    type_adapter_callback=type_adapter_callback,\n",
        "    table_names=[\"family\"]\n",
        ")\n",
        "\n",
        "info = pipeline.run(new_source, table_name=\"type_changed_family\")\n",
        "print(info)"
      ],
      "metadata": {
        "colab": {
          "base_uri": "https://localhost:8080/"
        },
        "id": "GYa6pX_EV6ml",
        "outputId": "e1291872-7b77-41f0-e572-2045ebb0d14d"
      },
      "execution_count": 23,
      "outputs": [
        {
          "output_type": "stream",
          "name": "stdout",
          "text": [
            "Pipeline sql_database_example load step completed in 2.70 seconds\n",
            "1 load package(s) were loaded to destination duckdb and into dataset sql_data_20250422035424\n",
            "The duckdb destination used duckdb:////content/sql_database_example.duckdb location to store data\n",
            "Load package 1745339645.0718708 is LOADED and contains no failed jobs\n"
          ]
        }
      ]
    },
    {
      "cell_type": "code",
      "source": [
        "schema1 = pipeline.default_schema.to_dict()[\"tables\"][\"family\"][\"columns\"]\n",
        "schema2 = pipeline.default_schema.to_dict()[\"tables\"][\"type_changed_family\"][\"columns\"]\n",
        "column = \"hmm_lambda\"\n",
        "\n",
        "print(\"For table 'family':\", schema1[column][\"name\"], \":\", schema1[column][\"data_type\"])\n",
        "print(\"For table 'type_changed_family':\", schema2[column][\"name\"], \":\", schema2[column][\"data_type\"])"
      ],
      "metadata": {
        "colab": {
          "base_uri": "https://localhost:8080/"
        },
        "id": "d-O5UZmEWYLP",
        "outputId": "9e39a864-b02e-4832-b85a-59ab60546c6b"
      },
      "execution_count": 25,
      "outputs": [
        {
          "output_type": "stream",
          "name": "stdout",
          "text": [
            "For table 'family': hmm_lambda : decimal\n",
            "For table 'type_changed_family': hmm_lambda : double\n"
          ]
        }
      ]
    },
    {
      "cell_type": "code",
      "source": [
        "decimal_columns = []\n",
        "for col in schema1:\n",
        "  if schema1[col][\"data_type\"] == \"decimal\":\n",
        "    decimal_columns.append(schema1[col][\"name\"])\n",
        "\n",
        "for col in schema2:\n",
        "  if schema2[col][\"name\"] in decimal_columns:\n",
        "    print(schema2[col][\"name\"])"
      ],
      "metadata": {
        "colab": {
          "base_uri": "https://localhost:8080/"
        },
        "id": "x-3i0GBbXN6n",
        "outputId": "7761329f-1107-4848-efc2-940dc7e3107d"
      },
      "execution_count": 26,
      "outputs": [
        {
          "output_type": "stream",
          "name": "stdout",
          "text": [
            "gathering_cutoff\n",
            "trusted_cutoff\n",
            "noise_cutoff\n",
            "ecmli_lambda\n",
            "ecmli_mu\n",
            "hmm_tau\n",
            "hmm_lambda\n"
          ]
        }
      ]
    },
    {
      "cell_type": "markdown",
      "source": [
        "### 1.4. Incremental Loading with `sql_database()` Source\n",
        "\n",
        "dlt stores the pipeline state as a Python dictionary;\n",
        "\n",
        "you can store values in it and, on the next pipeline run, request them back"
      ],
      "metadata": {
        "id": "zIzwZxfnN3I7"
      }
    },
    {
      "cell_type": "code",
      "source": [
        "import json\n",
        "# sql_database_example was the name of one of the dlt pipelines created above\n",
        "\n",
        "with open(\"/var/dlt/pipelines/sql_database_example/state.json\", \"r\") as f:\n",
        "  data = json.load(f)\n",
        "\n",
        "data[\"sources\"][\"sql_database\"][\"resources\"][\"family\"][\"incremental\"].keys()"
      ],
      "metadata": {
        "colab": {
          "base_uri": "https://localhost:8080/"
        },
        "id": "BgY3oDAVX99l",
        "outputId": "86ee9801-310b-4f43-a1a1-db162c909efb"
      },
      "execution_count": 27,
      "outputs": [
        {
          "output_type": "execute_result",
          "data": {
            "text/plain": [
              "dict_keys(['max_timestamp'])"
            ]
          },
          "metadata": {},
          "execution_count": 27
        }
      ]
    },
    {
      "cell_type": "code",
      "source": [
        "# lets create a new key for incremental loading\n",
        "\n",
        "from dlt.sources.sql_database import sql_database\n",
        "import pendulum\n",
        "\n",
        "source = sql_database().with_resources(\"family\")\n",
        "source.family.apply_hints(\n",
        "    incremental=dlt.sources.incremental(\"updated\", initial_value=pendulum.datetime(2024, 1, 1))\n",
        ")\n",
        "\n",
        "info = pipeline.run(source)\n",
        "print(info)"
      ],
      "metadata": {
        "colab": {
          "base_uri": "https://localhost:8080/"
        },
        "id": "wB3RmcCXY7UP",
        "outputId": "573706f1-7a89-4507-d79a-314ea020c2a9"
      },
      "execution_count": 28,
      "outputs": [
        {
          "output_type": "stream",
          "name": "stderr",
          "text": [
            "2025-04-22 16:47:45,021|[WARNING]|219|136695180943360|dlt|__init__.py|_check_duplicate_cursor_threshold:591|Large number of records (832) sharing the same value of cursor field 'updated'. This can happen if the cursor field has a low resolution (e.g., only stores dates without times), causing many records to share the same cursor value. Consider using a cursor column with higher resolution to reduce the deduplication state size.\n"
          ]
        },
        {
          "output_type": "stream",
          "name": "stdout",
          "text": [
            "Pipeline sql_database_example load step completed in 2.28 seconds\n",
            "1 load package(s) were loaded to destination duckdb and into dataset sql_data_20250422035424\n",
            "The duckdb destination used duckdb:////content/sql_database_example.duckdb location to store data\n",
            "Load package 1745340461.3747618 is LOADED and contains no failed jobs\n"
          ]
        }
      ]
    },
    {
      "cell_type": "code",
      "source": [
        "import json\n",
        "with open(\"/var/dlt/pipelines/sql_database_example/state.json\", \"r\") as f:\n",
        "  data = json.load(f)\n",
        "\n",
        "data[\"sources\"][\"sql_database\"][\"resources\"][\"family\"][\"incremental\"].keys()"
      ],
      "metadata": {
        "colab": {
          "base_uri": "https://localhost:8080/"
        },
        "id": "p7nYCBszZdgg",
        "outputId": "a01ea752-6aaf-4020-9a84-294891c90570"
      },
      "execution_count": 29,
      "outputs": [
        {
          "output_type": "execute_result",
          "data": {
            "text/plain": [
              "dict_keys(['max_timestamp', 'updated'])"
            ]
          },
          "metadata": {},
          "execution_count": 29
        }
      ]
    },
    {
      "cell_type": "markdown",
      "source": [
        "*We can see that two keys have been added now*"
      ],
      "metadata": {
        "id": "NmOzVOIRZiXU"
      }
    },
    {
      "cell_type": "code",
      "source": [],
      "metadata": {
        "id": "-9q7fUm9ZhRQ"
      },
      "execution_count": null,
      "outputs": []
    }
  ]
}